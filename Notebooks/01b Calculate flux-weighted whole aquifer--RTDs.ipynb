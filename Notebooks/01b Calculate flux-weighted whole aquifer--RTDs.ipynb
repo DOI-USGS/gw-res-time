{
 "cells": [
  {
   "cell_type": "markdown",
   "metadata": {},
   "source": [
    "This notebook is used to get residence-time distribution (RTD) for the entire aquifer from an existing MODFLOW model. It is possible to read in any group or label from a 3D array and make RTDs for those groups. The approach is to \n",
    "* read an existing model\n",
    "* create flux-weighted particle starting locations in every cell\n",
    "* run MODPATH and read endpoints\n",
    "* fit parametric distributions\n",
    "\n",
    "This notebook fits parametric distributions. Another notebook creates flux-weighted particles."
   ]
  },
  {
   "cell_type": "code",
   "execution_count": null,
   "metadata": {
    "scrolled": false
   },
   "outputs": [],
   "source": [
    "__author__ = 'Jeff Starn'\n",
    "%matplotlib notebook\n",
    "\n",
    "from IPython.display import set_matplotlib_formats\n",
    "set_matplotlib_formats('png', 'pdf')\n",
    "from IPython.display import Image\n",
    "from IPython.display import Math\n",
    "from ipywidgets import interact, Dropdown\n",
    "from IPython.display import display\n",
    "\n",
    "import os\n",
    "import sys\n",
    "import shutil\n",
    "import pickle\n",
    "import numpy as np\n",
    "import datetime as dt\n",
    "import matplotlib.pyplot as plt\n",
    "import matplotlib.ticker as mt\n",
    "import matplotlib.patches as patches\n",
    "\n",
    "import flopy as fp\n",
    "import imeth\n",
    "import fit_parametric_distributions\n",
    "import pandas as pd\n",
    "import scipy.stats as ss\n",
    "import scipy.optimize as so\n"
   ]
  },
  {
   "cell_type": "markdown",
   "metadata": {},
   "source": [
    "# Preliminary stuff"
   ]
  },
  {
   "cell_type": "markdown",
   "metadata": {},
   "source": [
    "## Set user-defined variables\n",
    "\n",
    "MODFLOW and MODPATH use elapsed time and are not aware of calendar time. To place MODFLOW/MODPATH elapsed time on the calendar, two calendar dates were specified at the top of the notebook: the beginning of the first stress period (`mf_start_date`) and when particles are to be released (`mp_release_date`). The latter date could be used in many ways, for example to represent a sampling date, or it could be looped over to create a time-lapse set of ages. "
   ]
  },
  {
   "cell_type": "markdown",
   "metadata": {},
   "source": [
    "## Loop through home directory to get list of name files"
   ]
  },
  {
   "cell_type": "code",
   "execution_count": null,
   "metadata": {
    "scrolled": false
   },
   "outputs": [],
   "source": [
    "homes = ['../Models']\n",
    "fig_dir = '../Figures'\n",
    "\n",
    "if not os.path.exists(fig_dir):\n",
    "    os.mkdir(dst)\n",
    "\n",
    "mfpth = '../executables/MODFLOW-NWT_1.0.9/bin/MODFLOW-NWT_64.exe'\n",
    "\n",
    "mf_start_date_str = '01/01/1900' \n",
    "mp_release_date_str = '01/01/2020' \n",
    "\n",
    "logtransform = False\n",
    "\n",
    "age_cutoff = 65\n",
    "year_cutoff = '01/01/1952'\n",
    "\n",
    "# weighting scheme, either 'flow' or 'volume'\n",
    "# weight_scheme = 'volume'\n",
    "# the weighting scheme is always volume in this version of the notebook\n",
    "# to get flow weighted travel times, a weight dataframe is output\n",
    "# that has as weights the proportion of flow in each cell\n",
    "weight_scheme = 'flow'\n",
    "\n",
    "# dist_list = [ss.invgauss, ss.gamma, ss.weibull_min]\n",
    "dist_list = [ss.weibull_min]\n",
    "\n",
    "por = 0.20\n",
    "\n",
    "dir_list = []\n",
    "mod_list = []\n",
    "i = 0\n",
    "\n",
    "for home in homes:\n",
    "    if os.path.exists(home):\n",
    "        for dirpath, dirnames, filenames in os.walk(home):\n",
    "            for f in filenames:\n",
    "                if os.path.splitext(f)[-1] == '.nam':\n",
    "                    mod = os.path.splitext(f)[0]\n",
    "                    mod_list.append(mod)\n",
    "                    dir_list.append(dirpath)\n",
    "                    i += 1\n",
    "print('    {} models read'.format(i))\n",
    "\n",
    "model_area = Dropdown(\n",
    "    options=mod_list,\n",
    "    description='Model:',\n",
    "    background_color='cyan',\n",
    "    border_color='black',\n",
    "    border_width=2)\n",
    "display(model_area)\n"
   ]
  },
  {
   "cell_type": "code",
   "execution_count": null,
   "metadata": {
    "scrolled": false
   },
   "outputs": [],
   "source": [
    "model = model_area.value\n",
    "model_ws = [item for item in dir_list if model in item][0]\n",
    "nam_file = '{}.nam'.format(model)\n",
    "print(\"working model is {}\".format(model_ws))"
   ]
  },
  {
   "cell_type": "markdown",
   "metadata": {},
   "source": [
    "##  Create names and path for model workspace. "
   ]
  },
  {
   "cell_type": "markdown",
   "metadata": {},
   "source": [
    "The procedures in this notebook can be run from the notebook or from a batch file by downloading the notebook as a Python script and uncommenting the following code and commenting out the following block. The remainder of the script has to be indented to be included in the loop.  This may require familiarity with Python. "
   ]
  },
  {
   "cell_type": "code",
   "execution_count": null,
   "metadata": {
    "scrolled": false
   },
   "outputs": [],
   "source": [
    "# for pth in dir_list:\n",
    "#     model = os.path.normpath(pth).split(os.sep)[2]\n",
    "#     model_ws = [item for item in dir_list if model in item][0]\n",
    "#     nam_file = '{}.nam'.format(model)\n",
    "#     print(\"working model is {}\".format(model_ws))"
   ]
  },
  {
   "cell_type": "markdown",
   "metadata": {},
   "source": [
    "# Load an existing model"
   ]
  },
  {
   "cell_type": "code",
   "execution_count": null,
   "metadata": {
    "scrolled": false
   },
   "outputs": [],
   "source": [
    "print ('Reading model information')\n",
    "\n",
    "fpmg = fp.modflow.Modflow.load(nam_file, model_ws=model_ws, exe_name=mfpth, version='mfnwt', \n",
    "                               load_only=['DIS', 'BAS6', 'UPW', 'OC'], check=False)\n",
    "\n",
    "dis = fpmg.get_package('DIS')\n",
    "bas = fpmg.get_package('BAS6')\n",
    "upw = fpmg.get_package('UPW')\n",
    "oc = fpmg.get_package('OC')\n",
    "\n",
    "delr = dis.delr\n",
    "delc = dis.delc\n",
    "nlay = dis.nlay\n",
    "nrow = dis.nrow\n",
    "ncol = dis.ncol\n",
    "bot = dis.getbotm()\n",
    "top = dis.gettop()\n",
    "\n",
    "hnoflo = bas.hnoflo\n",
    "ibound = np.asarray(bas.ibound.get_value())\n",
    "hdry = upw.hdry\n",
    "\n",
    "print ('   ... done') "
   ]
  },
  {
   "cell_type": "markdown",
   "metadata": {},
   "source": [
    "## Specification of time in MODFLOW/MODPATH\n",
    "\n",
    "There are several time-related concepts used in MODPATH.\n",
    "* `simulation time` is the elapsed time in model time units from the beginning of the first stress period\n",
    "* `reference time` is an arbitrary value of `simulation time` that is between the beginning and ending of `simulation time`\n",
    "* `tracking time` is the elapsed time relative to `reference time`. It is always positive regardless of whether particles are tracked forward or backward\n",
    "* `release time` is when a particle is released and is specified in `tracking time`"
   ]
  },
  {
   "cell_type": "code",
   "execution_count": null,
   "metadata": {
    "scrolled": false
   },
   "outputs": [],
   "source": [
    "# convert string representation of dates into Python datetime objects\n",
    "mf_start_date = dt.datetime.strptime(mf_start_date_str , '%m/%d/%Y')\n",
    "mp_release_date = dt.datetime.strptime(mp_release_date_str , '%m/%d/%Y')"
   ]
  },
  {
   "cell_type": "code",
   "execution_count": null,
   "metadata": {},
   "outputs": [],
   "source": [
    "src = os.path.join(model_ws, 'water_table.csv')\n",
    "water_table = pd.read_csv(src, index_col=0).values.reshape(nrow, ncol)"
   ]
  },
  {
   "cell_type": "markdown",
   "metadata": {},
   "source": [
    "# Process endpoint information"
   ]
  },
  {
   "cell_type": "markdown",
   "metadata": {},
   "source": [
    "## Read endpoint file"
   ]
  },
  {
   "cell_type": "markdown",
   "metadata": {},
   "source": [
    "## Review zones and create zone groups for processing"
   ]
  },
  {
   "cell_type": "markdown",
   "metadata": {},
   "source": [
    "# Fit parametric distributions"
   ]
  },
  {
   "cell_type": "markdown",
   "metadata": {},
   "source": [
    "## Subsample endpoints\n",
    "This next cell takes `s` number of stratified random samples from the endpoints. This is in order to make the curve fitting much faster. 50,000 samples seems to work pretty well."
   ]
  },
  {
   "cell_type": "markdown",
   "metadata": {},
   "source": [
    "## Calculate summary statistics\n",
    "\n",
    "Two definitions of young fraction are included. The first is relative to a particle travel time (age) cut-off in years. For steady-state models, it is independent of time and describes the young fraction of the RTD. For transient models, the young fraction depends on the particle release time. The second definition is relative to a calendar date; only particles that recharged after that date are included in the summary statistics. It is equal to the first definition by assuming particle release in 2017. It may be useful for assessing the breakthrough of chemicals released at a known date. For both definitions, the young fraction is described by the number of particles, the mean travel time of those particles, and the fraction of total particles.\n",
    "\n"
   ]
  },
  {
   "cell_type": "code",
   "execution_count": null,
   "metadata": {},
   "outputs": [],
   "source": [
    "src = os.path.join(model_ws, 'zone_df.csv')\n",
    "zone_df = pd.read_csv(src, index_col=0)\n",
    "fit_dict = dict()\n",
    "\n",
    "cols = ['mean particle age', 'standard dev of particle age', \n",
    "        'minimum particle age', \n",
    "        '10th percentile of particle age', \n",
    "        '20th percentile of particle age', \n",
    "        '30th percentile of particle age', \n",
    "        '40th percentile of particle age', \n",
    "        '50th percentile of particle age', \n",
    "        '60th percentile of particle age', \n",
    "        '70th percentile of particle age', \n",
    "        '80th percentile of particle age', \n",
    "        '90th percentile of particle age', \n",
    "        'maximum particle age', \n",
    "        'number particles < {} yrs old'.format(age_cutoff), \n",
    "        'mean age of particles < {} yrs old'.format(age_cutoff), \n",
    "        'proportion of particles < {} yrs old'.format(age_cutoff), \n",
    "        'number particles recharged since {}'.format(year_cutoff), \n",
    "        'mean age of particles recharged since {}'.format(year_cutoff), \n",
    "        'proportion of particles particles recharged since {}'.format(year_cutoff), \n",
    "        'total number of particles', \n",
    "        'minimum linear x-y path length',\n",
    "        'median linear x-y path length',\n",
    "        'maximum linear x-y path length',\n",
    "        'minimum linear x-y-z path length',\n",
    "        'median linear x-y-z path length',\n",
    "        'maximum linear x-y-z path length',\n",
    "        'One component Weibull shape',\n",
    "        'One component Weibull location',\n",
    "        'One component Weibull scale',\n",
    "        'Two component Weibull shape 1',\n",
    "        'Two component Weibull location 1',\n",
    "        'Two component Weibull scale 1',\n",
    "        'Two component Weibull shape 2',\n",
    "        'Two component Weibull location 2',\n",
    "        'Two component Weibull scale 2',\n",
    "        'Two component Weibull fraction',\n",
    "       ]\n",
    "\n",
    "data_df = pd.DataFrame(index=cols)\n",
    "\n",
    "# switch weight_scheme in the first cell to switch between volume weighted and flow weighted \n",
    "if weight_scheme == 'flow':\n",
    "    weight_label = 'flow'\n",
    "\n",
    "elif weight_scheme == 'volume':\n",
    "    weight_label = 'volume'\n",
    "\n"
   ]
  },
  {
   "cell_type": "code",
   "execution_count": null,
   "metadata": {},
   "outputs": [],
   "source": [
    "for group in zone_df:\n",
    "    \n",
    "    print('Summarizing endpoints and fitting distributions for {}'.format(group))\n",
    "\n",
    "    mpname = '{}_{}_{}'.format(fpmg.name, weight_label, group)\n",
    "\n",
    "    endpoint_file = '{}.{}'.format(mpname, 'mpend')\n",
    "    endpoint_file = os.path.join(model_ws, endpoint_file)\n",
    "\n",
    "    # read the endpoint file\n",
    "    ep_data = fit_parametric_distributions.read_endpoints(endpoint_file, dis)\n",
    "\n",
    "    # set the Z coordinate for particles that end in dry cells to the \n",
    "    # head of the nearest non-dry cell below the dry cell.\n",
    "    ind = np.isclose(ep_data['Final Global Z'], hdry, rtol=0.1)\n",
    "    ep_data['Final Global Z'] = np.where(ind, water_table[ep_data['Final Row']-1, \n",
    "                                        ep_data['Final Column']-1], ep_data['Final Global Z'])\n",
    "\n",
    "    # eliminate particles that start in dry cells\n",
    "    ind = np.isclose(ep_data['Initial Global Z'], hdry, rtol=0.99999)\n",
    "    ep_data = ep_data.loc[~ind, :]\n",
    "\n",
    "    # calculate approximate linear path distances\n",
    "    x_dist = ep_data['Final Global X'] - ep_data['Initial Global X']\n",
    "    y_dist = ep_data['Final Global Y'] - ep_data['Initial Global Y']\n",
    "    z_dist = ep_data['Final Global Z'] - ep_data['Initial Global Z']\n",
    "    ep_data['xy_path_len'] = np.sqrt(x_dist**2 + y_dist**2)\n",
    "    ep_data['xyz_path_len'] = np.sqrt(x_dist**2 + y_dist**2 + z_dist**2)\n",
    "\n",
    "    endpoint_file = '{}_mod.{}'.format(mpname, 'mpend')\n",
    "    endpoint_file = os.path.join(model_ws, endpoint_file)\n",
    "    ep_data.to_csv(endpoint_file)\n",
    "\n",
    "    # extract travel times \n",
    "    trav_time_raw = ep_data.loc[:, ['rt', 'xy_path_len', 'xyz_path_len']].copy()\n",
    "\n",
    "    # sort them\n",
    "    trav_time_raw.sort_values('rt', inplace=True)\n",
    "\n",
    "    # create arrays of CDF value between 1/x and 1\n",
    "\n",
    "    # number of particles \n",
    "    n = trav_time_raw.shape[0]\n",
    "\n",
    "    # number of particles desired to approximate the particle CDF\n",
    "    s = 50000\n",
    "\n",
    "    ly = np.linspace(1. / s, 1., s, endpoint=True)\n",
    "\n",
    "    tt_cdf = np.linspace(1. / n, 1., n, endpoint=True)\n",
    "\n",
    "    #     log transform the travel times\n",
    "    if logtransform:\n",
    "        tt = np.log(trav_time_raw.rt)\n",
    "    tt = trav_time_raw.rt\n",
    "\n",
    "    # interpolate at equally spaced points to reduce the number of particles\n",
    "    lprt = np.interp(ly, tt_cdf , tt)\n",
    "\n",
    "    first = lprt.min()\n",
    "    \n",
    "    fit_dict[group] = fit_parametric_distributions.fit_dists(ly, lprt, dist_list)\n",
    "\n",
    "    xp = np.arange(1, 10) * 10\n",
    "    data = np.zeros((36))\n",
    "    tt_count = trav_time_raw.shape[0]\n",
    "    data[0] = trav_time_raw.rt.mean()\n",
    "    data[1] = trav_time_raw.rt.std()\n",
    "    data[2] = trav_time_raw.rt.min()\n",
    "    for n, i in enumerate(xp):\n",
    "        data[n+3] = np.percentile(trav_time_raw.rt, i)\n",
    "    data[12] = trav_time_raw.rt.max()\n",
    "    cutoff_age_ar = trav_time_raw[trav_time_raw.rt < age_cutoff]\n",
    "    cutoff_age_count = cutoff_age_ar.shape[0]\n",
    "    data[13] = cutoff_age_count\n",
    "    data[14] = cutoff_age_ar.rt.mean()\n",
    "    data[15] = cutoff_age_count / tt_count\n",
    "    cut_off_years_ago = mp_release_date - dt.datetime.strptime(year_cutoff, '%m/%d/%Y')\n",
    "\n",
    "    cutoff_year_ar = trav_time_raw.loc[trav_time_raw.rt < cut_off_years_ago.days / 365.25, :]\n",
    "    cutoff_year_count = cutoff_year_ar.shape[0]\n",
    "    data[16] = cutoff_year_count\n",
    "    data[17] = cutoff_year_ar.rt.mean()\n",
    "    data[18] = cutoff_year_count / tt_count                \n",
    "    data[19] = trav_time_raw.rt.count()\n",
    "    data[20] = trav_time_raw.xy_path_len.min()\n",
    "    data[21] = trav_time_raw.xy_path_len.median()\n",
    "    data[22] = trav_time_raw.xy_path_len.max()\n",
    "    data[23] = trav_time_raw.xyz_path_len.min()\n",
    "    data[24] = trav_time_raw.xyz_path_len.median()\n",
    "    data[25] = trav_time_raw.xyz_path_len.max()\n",
    "    data[26:29] = fit_dict[group]['par']['uni_weibull_min']\n",
    "    data[29:37] = fit_dict[group]['par']['add_weibull_min']\n",
    "\n",
    "    data_df[group] = data\n",
    "        \n",
    "    print('   ...done')\n",
    "    \n",
    "dst = os.path.join(model_ws, 'summary_data_aquifer_system_{}.csv'.format(weight_scheme))\n",
    "data_df.to_csv(dst)\n",
    "\n",
    "dst = os.path.join(model_ws, 'fit_dict_{}.pickle'.format(weight_scheme))\n",
    "with open(dst, 'wb') as f:\n",
    "    pickle.dump(fit_dict, f)"
   ]
  },
  {
   "cell_type": "markdown",
   "metadata": {},
   "source": [
    "# Notes on RTD parent distributions"
   ]
  },
  {
   "cell_type": "markdown",
   "metadata": {},
   "source": [
    "From Stack Exchange Cross Validated:\n",
    "\n",
    "Both the gamma and Weibull distributions can be seen as generalisations of the exponential distribution. If we look at the exponential distribution as describing the waiting time of a Poisson process (the time we have to wait until an event happens, if that event is equally likely to occur in any time interval), then the $\\Gamma(k, \\theta)$ distribution describes the time we have to wait for $k$ independent events to occur.\n",
    "\n",
    "On the other hand, the Weibull distribution effectively describes the time we have to wait for one event to occur, if that event becomes more or less likely with time. Here the $k$ parameter describes how quickly the probability ramps up (proportional to $t^{k−1}$).\n",
    "\n",
    "We can see the difference in effect by looking at the pdfs of the two distributions. Ignoring all the normalising constants:\n",
    "\n",
    "$f_\\Gamma(x)\\propto x^{k-1}\\exp(-\\frac{x}{\\theta})$\n",
    "\n",
    "$f_W(x)\\propto x^{k-1}\\exp(-{(\\frac{x}{\\lambda})^k)}$\n",
    "\n",
    "The Weibull distribution drops off much more quickly (for $k>1$) or slowly (for $k<1$) than the gamma distribution. In the case where $k=1$, they both reduce to the exponential distribution.\n",
    "\n",
    "From Wikipedia:\n",
    "\n",
    "The generalized gamma has three parameters: $a>0$, $d>0$, and $p>0$. For non-negative x, the probability density function of the generalized gamma is$^{[2]}$\n",
    "\n",
    "$f(x;a,d,p)={\\frac  {(p/a^{d})x^{{d-1}}e^{{-(x/a)^{p}}}}{\\Gamma (d/p)}},$\n",
    "\n",
    "where $\\Gamma (\\cdot )$ denotes the gamma function.\n",
    "\n",
    "The cumulative distribution function is\n",
    "$F(x;a,d,p)={\\frac  {\\gamma (d/p,(x/a)^{p})}{\\Gamma (d/p)}},$\n",
    "\n",
    "where $\\gamma (\\cdot )$ denotes the lower incomplete gamma function.\n",
    "\n",
    "If $d=p$ then the generalized gamma distribution becomes the Weibull distribution. Alternatively, if $p=1$ the generalised gamma becomes the gamma distribution.\n",
    "\n",
    "From NIST National Engineering Handbook\n",
    "\n",
    "The formula for the probability density function of the general Weibull distribution is\n",
    "\n",
    "$f(x)=\\frac\\gamma\\alpha(\\frac{x-\\mu}\\alpha)^{(\\gamma-1)}\\exp(-(\\frac{(x-\\mu)}\\alpha)^\\gamma)$\n",
    "\n",
    "$x\\ge\\mu; \\gamma,\\alpha>0$\n",
    "\n",
    "where $\\gamma$ is the shape parameter, $\\mu$ is the location parameter and $\\alpha$ is the scale parameter. The case where $\\mu = 0$ and $\\alpha = 1$ is called the standard Weibull distribution. The case where $\\mu = 0$ is called the 2-parameter Weibull distribution. The equation for the standard Weibull distribution reduces to\n",
    "\n",
    "$f(x)=\\gamma x^{(\\gamma-1)}\\exp(-(x^\\gamma))$\n",
    "\n",
    "Since the general form of probability functions can be expressed in terms of the standard distribution, all subsequent formulas in this section are given for the standard form of the function.\n",
    "\n",
    "The general formula for the probability density function of the gamma distribution is\n",
    "\n",
    "$f(x)=\\frac{(\\frac{x-\\mu}{\\beta})^{\\gamma-1}\\exp(-\\frac{x-\\mu}{\\beta})}{\\beta\\Gamma(\\gamma)}$\n",
    "\n",
    "where $\\gamma$ is the shape parameter, $\\mu$ is the location parameter, $\\alpha$ is the scale parameter, and $\\Gamma$ is the gamma function which has the formula\n",
    "\n",
    "$\\Gamma(a)=\\int_0^\\infty t^{a-1}e^{-t}dt$\n",
    "\n",
    "The case where $\\mu=0$ and $\\beta=1$ is called the standard gamma distribution. The equation for the standard gamma distribution reduces to\n",
    "\n",
    "$f(x)=\\frac{x^{\\gamma-1}\\exp(-x)}{\\Gamma(\\gamma)}$\n",
    "\n",
    "  \n",
    "Since the general form of probability functions can be expressed in terms of the standard distribution, all subsequent formulas in this section are given for the standard form of the function."
   ]
  }
 ],
 "metadata": {
  "anaconda-cloud": {},
  "celltoolbar": "Slideshow",
  "kernelspec": {
   "display_name": "Python 3",
   "language": "python",
   "name": "python3"
  },
  "language_info": {
   "codemirror_mode": {
    "name": "ipython",
    "version": 3
   },
   "file_extension": ".py",
   "mimetype": "text/x-python",
   "name": "python",
   "nbconvert_exporter": "python",
   "pygments_lexer": "ipython3",
   "version": "3.6.4"
  }
 },
 "nbformat": 4,
 "nbformat_minor": 1
}
