{
 "cells": [
  {
   "cell_type": "markdown",
   "metadata": {},
   "source": [
    "# Create MODFLOW grid-based GeoTiff file"
   ]
  },
  {
   "cell_type": "markdown",
   "metadata": {},
   "source": [
    "This notebook creates a GeoTiff raster file in which the pixels correspond to model grid cells. Rotated grids are allowed; however, at this time, cells must be square.  This requirement could be relaxed in the future, but rasters usually are composed of  square pixels in most GIS software.  Although MODFLOW grids won't allow it, the method can be used for skewed pixels as well. \n",
    "\n",
    "The user needs to have a polygon shapefile of the model boundary (rectangular).  The shapefile can contain multiple polygons that together define  the model grid outline.  The projection of the model grid is read from the shapefile .prj file. With a little coding, the projection could also be supplied as an EPSG code. \n",
    "\n",
    "The pixels are coded to take the value of the ibound array in the layer specified in the variable `ib2use`. This could be changed to take the value of any model quantity. "
   ]
  },
  {
   "cell_type": "code",
   "execution_count": null,
   "metadata": {
    "scrolled": true
   },
   "outputs": [],
   "source": [
    "__author__ = 'Jeff Starn'   \n",
    "%matplotlib notebook\n",
    "from ipywidgets import interact, Dropdown\n",
    "from IPython.display import display\n",
    "\n",
    "import os\n",
    "import sys\n",
    "import numpy as np\n",
    "import matplotlib.pyplot as plt\n",
    "\n",
    "import geopandas as gp\n",
    "import gdal\n",
    "gdal.UseExceptions()\n",
    "\n",
    "import ogr\n",
    "import osr\n",
    "import flopy as fp"
   ]
  },
  {
   "cell_type": "markdown",
   "metadata": {},
   "source": [
    "The next cell contains user-supplied information. The `homes` variable is a list of directories that contain one or more MODFLOW name files. The directories in this list will be scanned and a list of MODFLOW files with their paths will be created. The user can select from this list in a subsequent cell."
   ]
  },
  {
   "cell_type": "code",
   "execution_count": null,
   "metadata": {},
   "outputs": [],
   "source": [
    "homes = ['../Models']\n",
    "\n",
    "mfpth = '../executables/MODFLOW-NWT_1.0.9/bin/MODFLOW-NWT_64.exe'\n",
    "\n",
    "# give the base name (no file extension) of the model grid shapefile\n",
    "model_outline = 'fzmg_model_outline'\n",
    "model_outline = 'SIR2016_5076'\n",
    "\n",
    "ib2use = 0"
   ]
  },
  {
   "cell_type": "markdown",
   "metadata": {},
   "source": [
    "Scan the directories in `home` looking for name files."
   ]
  },
  {
   "cell_type": "code",
   "execution_count": null,
   "metadata": {
    "scrolled": true
   },
   "outputs": [],
   "source": [
    "dir_list = []\n",
    "mod_list = []\n",
    "i = 0\n",
    "\n",
    "for home in homes:\n",
    "    if os.path.exists(home):\n",
    "        for dirpath, dirnames, filenames in os.walk(home):\n",
    "            for f in filenames:\n",
    "                if os.path.splitext(f)[-1] == '.nam':\n",
    "                    mod = os.path.splitext(f)[0]\n",
    "                    mod_list.append(mod)\n",
    "                    dir_list.append(os.path.join(dirpath, f))\n",
    "                    i += 1\n",
    "print('    {} models read'.format(i))"
   ]
  },
  {
   "cell_type": "markdown",
   "metadata": {},
   "source": [
    "Choose a name file from this list."
   ]
  },
  {
   "cell_type": "code",
   "execution_count": null,
   "metadata": {
    "scrolled": true
   },
   "outputs": [],
   "source": [
    "model_area = Dropdown(\n",
    "    options=mod_list,\n",
    "    description='Model:',\n",
    "    background_color='cyan',\n",
    "    border_color='black',\n",
    "    border_width=2)\n",
    "display(model_area)"
   ]
  },
  {
   "cell_type": "markdown",
   "metadata": {},
   "source": [
    "Make path names etc. from the selected model."
   ]
  },
  {
   "cell_type": "code",
   "execution_count": null,
   "metadata": {
    "scrolled": true
   },
   "outputs": [],
   "source": [
    "model = model_area.value\n",
    "nam_path = [item for item in dir_list if model in item][0]\n",
    "nam_file = os.path.basename(nam_path)\n",
    "model_ws = os.path.dirname(nam_path)\n",
    "\n",
    "new_ws = os.path.join(model_ws, 'WEL')\n",
    "geo_ws = os.path.dirname(model_ws)\n",
    "\n",
    "print(\"working model is {}\".format(nam_path))"
   ]
  },
  {
   "cell_type": "code",
   "execution_count": null,
   "metadata": {},
   "outputs": [],
   "source": [
    "# the following information can be input directly or read from flopy\n",
    "\n",
    "# NACP model\n",
    "# delr = delc = 5280\n",
    "# nrow = 250\n",
    "# ncol = 500\n",
    "\n",
    "# Fall Zone model\n",
    "# delr = delc = 1056\n",
    "# nrow = 750\n",
    "# ncol = 250"
   ]
  },
  {
   "cell_type": "markdown",
   "metadata": {},
   "source": [
    "Read the model using FLOPY. Only the BAS and DIS packages need to read to create a basic GeoTiff."
   ]
  },
  {
   "cell_type": "code",
   "execution_count": null,
   "metadata": {
    "scrolled": true
   },
   "outputs": [],
   "source": [
    "print ('Reading model information')\n",
    "\n",
    "fpmg = fp.modflow.Modflow.load(nam_file, model_ws=model_ws, exe_name=mfpth, version='mfnwt', \n",
    "                               load_only=['DIS', 'BAS6'], check=False)\n",
    "\n",
    "dis = fpmg.get_package('DIS')\n",
    "bas = fpmg.get_package('BAS6')\n",
    "\n",
    "delr = dis.delr\n",
    "delc = dis.delc\n",
    "nlay = dis.nlay\n",
    "nrow = dis.nrow\n",
    "ncol = dis.ncol\n",
    "\n",
    "hnoflo = bas.hnoflo\n",
    "ibound = np.asarray(bas.ibound.get_value())\n",
    "\n",
    "print ('   ... done') "
   ]
  },
  {
   "cell_type": "markdown",
   "metadata": {},
   "source": [
    "Fucntions used in the notebook"
   ]
  },
  {
   "cell_type": "code",
   "execution_count": null,
   "metadata": {
    "scrolled": true
   },
   "outputs": [],
   "source": [
    "def get_minmax(g):\n",
    "    '''This function extracts x and y values from a polygon\n",
    "    and finds the coordinate pairs at extreme values.\n",
    "    \n",
    "    g : Shapely Polygon or MultiPolygon object\n",
    "    \n",
    "    returns: array of (x, y) pairs at extreme values'''\n",
    "    \n",
    "    x, y = np.array(list(zip(*g.boundary.coords[:])))\n",
    "    return find_minmax(x, y)\n",
    "\n",
    "def find_minmax(x, y):\n",
    "    '''This function finds the pairs of coordinates at each extreme value.\n",
    "    \n",
    "    x, y : array of single coordinates, x and y\n",
    "    \n",
    "    returns: array of (x, y) pairs at extreme values'''\n",
    "\n",
    "    ximin = np.argmin(x)\n",
    "    ximax = np.argmax(x)\n",
    "    yimin = np.argmin(y)\n",
    "    yimax = np.argmax(y)\n",
    "    \n",
    "    return np.array(((x[ximin], y[ximin]),\n",
    "           (x[yimax], y[yimax]),\n",
    "           (x[ximax], y[ximax]),\n",
    "           (x[yimin], y[yimin])))"
   ]
  },
  {
   "cell_type": "markdown",
   "metadata": {},
   "source": [
    "### Find the corner points of an arbitrary rectangular shapefile (i.e., MODFLOW grid)"
   ]
  },
  {
   "cell_type": "markdown",
   "metadata": {
    "scrolled": true
   },
   "source": [
    "Read the shapefile"
   ]
  },
  {
   "cell_type": "code",
   "execution_count": null,
   "metadata": {},
   "outputs": [],
   "source": [
    "src = os.path.join(geo_ws, model_outline)\n",
    "basin = gp.read_file(src + '.shp')"
   ]
  },
  {
   "cell_type": "markdown",
   "metadata": {},
   "source": [
    "Read the shapefile's projection file (`.prj`). Convert to other formats.  The SRS object provides methods for other formats."
   ]
  },
  {
   "cell_type": "code",
   "execution_count": null,
   "metadata": {
    "scrolled": true
   },
   "outputs": [],
   "source": [
    "# Read the projection associated with the shapefile (in ESRI WKT format).\n",
    "with open(src +  '.prj', 'r') as f:\n",
    "    prj = f.readlines()\n",
    "    \n",
    "# Convert the projection to Proj.4 (for geopandas and matplotlib) and WKT \n",
    "# (for open source geotiff file)\n",
    "srs = osr.SpatialReference()\n",
    "srs.ImportFromESRI(prj)\n",
    "prj4 = srs.ExportToProj4()\n",
    "wkt = srs.ExportToWkt()\n",
    "\n",
    "# initialize with dummy array so that new arrays of the same shape can be appended\n",
    "arr = np.zeros((1, 2))\n",
    "\n",
    "# loop through all the geometries in the source shapefile and\n",
    "# append the pairs of coordinates at extreme values\n",
    "for geom in basin.geometry:\n",
    "    if geom.type == 'Polygon':\n",
    "        arr = np.append(arr, get_minmax(geom), axis=0)\n",
    "    elif geom.type == 'MultiPolygon':\n",
    "        for g in geom:\n",
    "            arr = np.append(arr, get_minmax(g), axis=0)\n",
    "    else:\n",
    "        print('unrecognized geometry type; should be Polygon or MultiPolygon')\n",
    "\n",
    "# find the global set of coordinates at extreme values (corners)\n",
    "pts = find_minmax(arr[1:, 0], arr[1:, 1])"
   ]
  },
  {
   "cell_type": "markdown",
   "metadata": {},
   "source": [
    "Check for errors"
   ]
  },
  {
   "cell_type": "code",
   "execution_count": null,
   "metadata": {},
   "outputs": [],
   "source": [
    "LX = np.unique(delr)\n",
    "LY = np.unique(delc)\n",
    "\n",
    "assert LX.shape[0]==1, \"grid spacing in delr is not uniform; can't use raster\"\n",
    "assert LY.shape[0]==1, \"grid spacing in delc is not uniform; can't use raster\"\n",
    "assert LX==LY, \"grid cells are not square; can't use raster\"\n",
    "\n",
    "L = LX"
   ]
  },
  {
   "cell_type": "markdown",
   "metadata": {},
   "source": [
    "Process the corner points to find the origin with respect to the given `nrow` and `ncol` and the angle of grid rotation in radians from the positive x axis."
   ]
  },
  {
   "cell_type": "code",
   "execution_count": null,
   "metadata": {
    "scrolled": true
   },
   "outputs": [],
   "source": [
    "# Find the apex (ymax) of the grid.\n",
    "ymax = np.argmax(pts[:, 1])\n",
    "\n",
    "# Wrap (roll) the lines of the array around so that the apex is at the top of the array (first line).\n",
    "pts = np.roll(pts, -ymax, axis=0)\n",
    "\n",
    "# Add the first point to the end for calculating distances\n",
    "pts = np.vstack((pts, pts[0, :]))\n",
    "\n",
    "# Calculate the length of each side.\n",
    "dc = np.diff(pts, axis=0)\n",
    "hyp = np.hypot(dc[:, 0], dc[:, 1])\n",
    "\n",
    "# angle in radians from positive x axis such that negative y values produce negative angles\n",
    "da = np.arctan2(dc[:, 1], dc[:, 0])"
   ]
  },
  {
   "cell_type": "markdown",
   "metadata": {},
   "source": [
    "Calculate the geotransformation coordinates for the raster"
   ]
  },
  {
   "cell_type": "code",
   "execution_count": null,
   "metadata": {
    "scrolled": true
   },
   "outputs": [],
   "source": [
    "# the corner coordinates always have the ncol dimension to the right of the origin \n",
    "\n",
    "if ncol <= nrow:\n",
    "    if hyp[0] <= hyp[3]:\n",
    "        origin = pts[0, :]\n",
    "        theta = da[0]\n",
    "    else:\n",
    "        origin = pts[3, :]\n",
    "        theta = da[3]\n",
    "elif ncol > nrow:\n",
    "    if hyp[0] < hyp[3]:\n",
    "        origin = pts[3, :]\n",
    "        theta = da[3]\n",
    "    else:\n",
    "        origin = pts[0, :]\n",
    "        theta = da[0]\n",
    "else:\n",
    "    assert np.isclose(hyp[0], hyp[3]), 'nrow = ncol but sides are not equal length'\n",
    "\n",
    "A = L * np.cos(theta)\n",
    "B = L * np.sin(theta)\n",
    "D = L * np.sin(theta)\n",
    "E = L * -np.cos(theta)\n",
    "\n",
    "gt = [origin[0], A[0], B[0], origin[1], D[0], E[0]]"
   ]
  },
  {
   "cell_type": "code",
   "execution_count": null,
   "metadata": {},
   "outputs": [],
   "source": [
    "pts"
   ]
  },
  {
   "cell_type": "code",
   "execution_count": null,
   "metadata": {
    "scrolled": false
   },
   "outputs": [],
   "source": [
    "ax = basin.plot()\n",
    "ax.plot(arr[:,0], arr[:,1], marker='x', linestyle='None', **{'mec':'k', 'linewidth':1.0})\n",
    "ax.plot(origin[0], origin[1], marker='o', linestyle='None', **{'mec':'k', 'linewidth':1.0})"
   ]
  },
  {
   "cell_type": "markdown",
   "metadata": {},
   "source": [
    "Make the raster and save as a GeoTiff file"
   ]
  },
  {
   "cell_type": "code",
   "execution_count": null,
   "metadata": {
    "scrolled": true
   },
   "outputs": [],
   "source": [
    "dst_file = os.path.join(geo_ws, 'model_grid.tif')\n",
    "\n",
    "if os.path.exists(dst_file):\n",
    "    os.remove(dst_file)\n",
    "    \n",
    "driver = gdal.GetDriverByName(\"GTiff\")\n",
    "dst = driver.Create(dst_file, ncol, nrow, 1, gdal.GDT_Float32)\n",
    "dst.SetProjection(wkt)\n",
    "dst.SetGeoTransform(gt)\n",
    "ba = dst.GetRasterBand(1)\n",
    "no = ba.SetNoDataValue(0)\n",
    "ar = ba.WriteArray(ibound[ib2use, :, :])\n",
    "dst = None\n",
    "driver = None"
   ]
  },
  {
   "cell_type": "code",
   "execution_count": null,
   "metadata": {},
   "outputs": [],
   "source": []
  }
 ],
 "metadata": {
  "kernelspec": {
   "display_name": "Python 3",
   "language": "python",
   "name": "python3"
  },
  "language_info": {
   "codemirror_mode": {
    "name": "ipython",
    "version": 3
   },
   "file_extension": ".py",
   "mimetype": "text/x-python",
   "name": "python",
   "nbconvert_exporter": "python",
   "pygments_lexer": "ipython3",
   "version": "3.6.4"
  }
 },
 "nbformat": 4,
 "nbformat_minor": 1
}
