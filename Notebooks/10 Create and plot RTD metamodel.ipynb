{
 "cells": [
  {
   "cell_type": "code",
   "execution_count": null,
   "metadata": {
    "collapsed": false,
    "scrolled": false
   },
   "outputs": [],
   "source": [
    "%matplotlib notebook\n",
    "import os\n",
    "import pandas as pd\n",
    "import numpy as np\n",
    "import geopandas as gp\n",
    "import matplotlib.pyplot as plt\n",
    "import scipy.stats as ss\n",
    "import sklearn.cluster as cluster\n",
    "import sklearn.linear_model as linear_model\n",
    "import sklearn.preprocessing as preprocessing\n",
    "from sklearn.model_selection import learning_curve, validation_curve, ShuffleSplit, cross_val_score, cross_val_predict, KFold \n",
    "from sklearn.metrics import explained_variance_score, make_scorer\n",
    "from sklearn.pipeline import make_pipeline"
   ]
  },
  {
   "cell_type": "markdown",
   "metadata": {},
   "source": [
    "## Can the parametric distribution be regionalized?"
   ]
  },
  {
   "cell_type": "code",
   "execution_count": null,
   "metadata": {
    "collapsed": false,
    "scrolled": false
   },
   "outputs": [],
   "source": [
    "homes = ['../Models']\n",
    "fig_dir = '../Figures'\n",
    "\n",
    "mfpth = '../executables/MODFLOW-NWT_1.0.9/bin/MODFLOW-NWT_64.exe'\n",
    "mp_exe_name = '../executables/modpath.6_0/bin/mp6.exe' \n",
    "\n",
    "mf_start_date_str = '01/01/1900' \n",
    "mp_release_date_str = '01/01/2020' \n",
    "\n",
    "num_surf_layers = 3\n",
    "num_depth_groups = 5\n",
    "\n",
    "por = 0.20\n",
    "\n",
    "dir_list = []\n",
    "mod_list = []\n",
    "i = 0\n",
    "\n",
    "for home in homes:\n",
    "    if os.path.exists(home):\n",
    "        for dirpath, dirnames, filenames in os.walk(home):\n",
    "            for f in filenames:\n",
    "                if os.path.splitext(f)[-1] == '.nam':\n",
    "                    mod = os.path.splitext(f)[0]\n",
    "                    mod_list.append(mod)\n",
    "                    dir_list.append(dirpath)\n",
    "                    i += 1\n",
    "print('    {} models read'.format(i))"
   ]
  },
  {
   "cell_type": "code",
   "execution_count": null,
   "metadata": {
    "collapsed": true,
    "scrolled": false
   },
   "outputs": [],
   "source": [
    "src = '../Data/Watersheds/watersheds.shp'\n",
    "shp = gp.read_file(src)\n",
    "shp['model'] = shp.model_name.str.lower()"
   ]
  },
  {
   "cell_type": "markdown",
   "metadata": {},
   "source": [
    "Read explanatory variables derived from MODFLOW simulation"
   ]
  },
  {
   "cell_type": "code",
   "execution_count": null,
   "metadata": {
    "collapsed": false,
    "scrolled": false
   },
   "outputs": [],
   "source": [
    "src = os.path.join(fig_dir, 'master_modflow_table.csv')\n",
    "area_summary = pd.read_csv(src)"
   ]
  },
  {
   "cell_type": "markdown",
   "metadata": {},
   "source": [
    "Read response variables from summary of all models fits"
   ]
  },
  {
   "cell_type": "code",
   "execution_count": null,
   "metadata": {
    "collapsed": false,
    "scrolled": false
   },
   "outputs": [],
   "source": [
    "src = os.path.join(fig_dir, 'weib_and_exp_fit.csv')\n",
    "parameter_summary = pd.read_csv(src, index_col=0)"
   ]
  },
  {
   "cell_type": "markdown",
   "metadata": {},
   "source": [
    "Select one parametric RTD model and merge the response and explanatory variables"
   ]
  },
  {
   "cell_type": "code",
   "execution_count": null,
   "metadata": {
    "collapsed": true,
    "scrolled": false
   },
   "outputs": [],
   "source": [
    "model_list = ['add', 'imp', 'uni']\n",
    "dist_list = ['invgauss', 'gamma', 'weibull_min']\n",
    "\n",
    "ml = 2\n",
    "dl = 2\n",
    "\n",
    "dist = '{}_{}'.format(model_list[ml], dist_list[dl])"
   ]
  },
  {
   "cell_type": "code",
   "execution_count": null,
   "metadata": {
    "collapsed": false,
    "scrolled": false
   },
   "outputs": [],
   "source": [
    "indy = ['Assabet', 'Board2', 'CONN', 'IA_Willow_02', 'IL_West_Fork_Mazon_03',\n",
    "       'Kala2', 'MN_Talcot_Lake-Des_Moines_04', \n",
    "       'MO_U16_Mississippi', 'MO_Wildcat_02',  \n",
    "       'NE_Upper_Logan_Creek_02', 'NY_Ramapo_02', 'NorthSkunk',\n",
    "       'OH_Three_Brothers_Creek-Grand_05', 'Oconto', 'Racoon', 'SD_Willow_07',\n",
    "       'SugarCreek', 'Tomorrow', 'Upper_fox', \n",
    "       'WI_Waumaundee_04', 'Whitedam3', 'huc_07030001_domain',\n",
    "       'huc_07050002_domain', 'huc_07070001_domain', 'huc_07070003_domain',\n",
    "       'huc_07080205_domain', 'huc_07090006_domain', 'huc_07120003_domain',\n",
    "       'huc_07120004_domain', 'huc_07130009_domain']\n",
    "\n",
    "par_sum = parameter_summary.loc[indy, :]\n",
    "par_sum['model'] = par_sum.index.str.lower()\n",
    "print('number of model = {}'.format(par_sum.shape[0]))"
   ]
  },
  {
   "cell_type": "code",
   "execution_count": null,
   "metadata": {
    "collapsed": false,
    "scrolled": true
   },
   "outputs": [],
   "source": [
    "data = par_sum.merge(area_summary, left_on='model', right_on='model', how='inner')\n",
    "data = data.merge(shp, left_on='model', right_on='model')\n",
    "\n",
    "data.dropna(axis=0, how='all', inplace=True)\n",
    "data.dropna(axis=1, how='all', inplace=True)\n",
    "data.set_index('model', drop=True, inplace=True)\n",
    "print('number of models = {}'.format(data.shape[0]))\n",
    "\n",
    "data['wei_location'] = np.exp(data.location)"
   ]
  },
  {
   "cell_type": "code",
   "execution_count": null,
   "metadata": {
    "collapsed": true,
    "scrolled": false
   },
   "outputs": [],
   "source": [
    "feacols = ['inv_exp_scale', \n",
    "           'rech_vol', 'rech_frac', \n",
    "           'Kf', 'Kc', 'Kb', \n",
    "           'vani', \n",
    "           'fKf_vol', 'fKc_vol', 'fKlake_vol', 'fKb_vol', \n",
    "           'drn_dens_area']\n",
    "labcols = ['wei_shape', 'wei_location', 'wei_scale'] \n",
    "\n",
    "sel_ind = data.rech_frac <= 1\n",
    "features = data.loc[sel_ind, feacols]\n",
    "labels = data.loc[sel_ind, labcols]\n",
    "names = feacols\n",
    "\n",
    "targets = labels.columns"
   ]
  },
  {
   "cell_type": "code",
   "execution_count": null,
   "metadata": {
    "collapsed": false,
    "scrolled": true
   },
   "outputs": [],
   "source": [
    "shp_used_4_meta = gp.GeoDataFrame(data, geometry='geometry', crs=shp.crs)"
   ]
  },
  {
   "cell_type": "code",
   "execution_count": null,
   "metadata": {
    "collapsed": true,
    "scrolled": true
   },
   "outputs": [],
   "source": [
    "dst = os.path.join(fig_dir, 'shp_used_4_meta.shp')"
   ]
  },
  {
   "cell_type": "code",
   "execution_count": null,
   "metadata": {
    "collapsed": true,
    "scrolled": true
   },
   "outputs": [],
   "source": [
    "shp_used_4_meta.to_file(dst)"
   ]
  },
  {
   "cell_type": "code",
   "execution_count": null,
   "metadata": {
    "collapsed": true,
    "scrolled": false
   },
   "outputs": [],
   "source": [
    "poly = False\n",
    "# poly = True\n",
    "\n",
    "if poly:\n",
    "    pp = preprocessing.PolynomialFeatures()\n",
    "    features = pp.fit_transform(features)\n",
    "    names = pp.get_feature_names(names)"
   ]
  },
  {
   "cell_type": "code",
   "execution_count": null,
   "metadata": {
    "collapsed": false,
    "scrolled": false
   },
   "outputs": [],
   "source": [
    "#Standardizes labels\n",
    "yscaler = preprocessing.StandardScaler().fit(labels)\n",
    "std_Y = yscaler.transform(labels)\n",
    "# std_Y = labels\n",
    "\n",
    "#Standardizes features\n",
    "xscaler = preprocessing.StandardScaler().fit(features)\n",
    "std_X = xscaler.transform(features)\n",
    "# std_X = features"
   ]
  },
  {
   "cell_type": "code",
   "execution_count": null,
   "metadata": {
    "collapsed": false,
    "scrolled": false
   },
   "outputs": [],
   "source": [
    "test_size = 0.25\n",
    "num_perm = 1000\n",
    "num_alpha = 50\n",
    "\n",
    "cv = ShuffleSplit(n_splits=num_perm, test_size=test_size, random_state=2909591)\n",
    "\n",
    "lrp = linear_model.MultiTaskLasso(max_iter=10000, normalize=False)\n",
    "param_range = np.logspace(-3, 1, num_alpha)\n",
    "\n",
    "path = np.zeros((std_Y.shape[1], num_alpha, std_X.shape[1]))\n",
    "train_scores_mean = np.zeros((num_alpha))\n",
    "train_scores_std = np.zeros((num_alpha))\n",
    "\n",
    "for i, v in enumerate(param_range):\n",
    "    lrp.set_params(alpha=v)\n",
    "    lrp.fit(std_X, std_Y)\n",
    "    path[:, i, :] = lrp.coef_\n",
    "    cvs = cross_val_score(lrp, std_X, std_Y, cv=cv, scoring='neg_mean_squared_error')\n",
    "    train_scores_mean[i] = cvs.mean()\n",
    "    train_scores_std[i] = cvs.std()\n",
    "    \n",
    "se = train_scores_std / np.sqrt(num_perm)\n",
    "best = np.argmax(train_scores_mean)\n",
    "best_alpha = param_range[best]\n",
    "best_mse = train_scores_mean[best]\n",
    "best_se = se[best]\n",
    "simple_mse = best_mse - best_se\n",
    "simple = np.argmin((train_scores_mean <= simple_mse)[::-1])\n",
    "simple_alpha = param_range[::-1][simple]"
   ]
  },
  {
   "cell_type": "code",
   "execution_count": null,
   "metadata": {
    "collapsed": false,
    "scrolled": false
   },
   "outputs": [],
   "source": [
    "lrp.set_params(alpha=simple_alpha)\n",
    "lrp.fit(std_X, std_Y)\n",
    "predicted = lrp.predict(std_X)\n",
    "r2 = lrp.score(std_X, std_Y)\n",
    "coef_df = pd.DataFrame(lrp.coef_.T, columns=labcols, index=names)\n",
    "\n",
    "num_active_pars = (np.abs(path[0, :, :] ) > 0).sum(axis=1)"
   ]
  },
  {
   "cell_type": "code",
   "execution_count": null,
   "metadata": {
    "collapsed": false,
    "scrolled": false
   },
   "outputs": [],
   "source": [
    "print(r2)\n",
    "print(best_alpha)\n",
    "print(best_mse)\n",
    "print(simple_mse)\n",
    "print(simple_alpha)"
   ]
  },
  {
   "cell_type": "code",
   "execution_count": null,
   "metadata": {
    "collapsed": false,
    "scrolled": false
   },
   "outputs": [],
   "source": [
    "font = {'family' : 'sans-serif',\n",
    "        'weight' : 'normal',\n",
    "        'size'   : 8,\n",
    "        'sans-serif' : 'Arial'}\n",
    "\n",
    "plt.rc('font', **font)\n",
    "\n",
    "fig, ax = plt.subplots(1, 1, figsize=(3.8, 4))\n",
    "lw = 1\n",
    "\n",
    "ax.set_xlabel(r'$\\alpha_r $')\n",
    "\n",
    "ax.set_ylabel(r\"Negative mean squared error\")\n",
    "ax.semilogx(param_range, train_scores_mean, \n",
    "             color='black', lw=lw, zorder=5)\n",
    "ax.fill_between(param_range, train_scores_mean - train_scores_std,\n",
    "                 train_scores_mean + train_scores_std, alpha=0.4,\n",
    "                 color=\"darkorange\", lw=lw, label='$\\overline {MSE}\\pm\\sigma$ across folds', \n",
    "                zorder=1)\n",
    "\n",
    "ax.errorbar(param_range, train_scores_mean, yerr=se, linestyle='None',\n",
    "            elinewidth=lw, ecolor='k', capthick=lw, capsize=lw, \n",
    "            zorder=4, label=r'$\\overline {MSE}\\pm 1$ standard error')\n",
    "\n",
    "ax.axvline(best_alpha, linestyle='--',\n",
    "       label=r'Best $\\alpha$ = {:2.4f}'.format(best_alpha), zorder=3)\n",
    "ax.axvline(simple_alpha, linestyle=':',\n",
    "       label=r'Simple $\\alpha$ = {:2.4f}'.format(simple_alpha), zorder=2)\n",
    "ax.set_ylim(-2.5, 0.5)\n",
    "ax.invert_xaxis();\n",
    "\n",
    "fig.text(0, 0.95, 'a', fontdict={'weight':'bold'})\n",
    "fig.set_tight_layout(True)\n",
    "form_list = ['png', 'pdf', 'tif']\n",
    "for form in form_list:\n",
    "    line = 'Paper #2017WR021531-f9a.{}'.format(form)\n",
    "    fig_name = os.path.join(fig_dir, line)\n",
    "    plt.savefig(fig_name, dpi=300)"
   ]
  },
  {
   "cell_type": "code",
   "execution_count": null,
   "metadata": {
    "collapsed": false,
    "scrolled": false
   },
   "outputs": [],
   "source": [
    "greekcols = [r'$\\gamma$', r'$\\mu$', r'$\\alpha$', ]\n",
    "newcolumns = dict(zip(labcols, zip(greekcols)))\n",
    "\n",
    "greeknames = [r'$\\tau^{-1}$', r'$R_{bedrock}$', r'$R_{bedrock} / R_{surface}$', r'$K_{fine}$',\n",
    "          r'$K_{coarse}$', r'$K_{bedrock}$', r'$K_{h}/K_{v}$', r'$fv_{fine}$', r'$fv_{coarse}$',\n",
    "          r'$fv_{lakes}$', r'$fv_{bedrock}$', r'$fa_{drains}$']\n",
    "newnames = dict(zip(feacols, greeknames))\n",
    "\n",
    "coef_df = coef_df.rename(index=newnames, columns=newcolumns)"
   ]
  },
  {
   "cell_type": "code",
   "execution_count": null,
   "metadata": {
    "collapsed": false,
    "scrolled": false
   },
   "outputs": [],
   "source": [
    "font = {'family' : 'sans-serif',\n",
    "        'weight' : 'normal',\n",
    "        'size'   : 8,\n",
    "        'sans-serif' : 'Arial'}\n",
    "\n",
    "plt.rc('font', **font)\n",
    "\n",
    "num_plots = std_Y.shape[1]\n",
    "fig, ax_grid = plt.subplots(1, num_plots, figsize=(7.4, 4.6), sharex=True, sharey=True, \n",
    "                            gridspec_kw={'wspace':0.0, 'hspace':0.05})\n",
    "ax = ax_grid.ravel()\n",
    "for p in range(num_plots):\n",
    "    ax[p].scatter(std_Y[:, p], predicted[:, p], label=greekcols[p], c='k', s=5)\n",
    "    ax[p].plot([std_Y[:, p].min(), std_Y[:, p].max()], \n",
    "               [std_Y[:, p].min(), std_Y[:, p].max()], 'k--', lw=1, alpha=0.50)\n",
    "    if p == 1:\n",
    "        ax[p].set_xlabel( 'Standardized Weibull parameters fit to particle distributions')\n",
    "    leg = ax[p].legend(handlelength=0, handletextpad=0, frameon=False, loc=2)\n",
    "    for item in leg.legendHandles:\n",
    "        item.set_visible(False)\n",
    "\n",
    "fig.text(0, 0.95, 'b', fontdict={'weight':'bold'})\n",
    "ax[0].set_ylabel('Standardized Weibull parameters predicted by LASSO')\n",
    "fig.set_tight_layout(True)\n",
    "form_list = ['png', 'pdf', 'tif']\n",
    "for form in form_list:\n",
    "    line = 'Paper #2017WR021531-f9b.{}'.format(form)\n",
    "    fig_name = os.path.join(fig_dir, line)\n",
    "    plt.savefig(fig_name, dpi=300)"
   ]
  },
  {
   "cell_type": "code",
   "execution_count": null,
   "metadata": {
    "collapsed": false,
    "scrolled": false
   },
   "outputs": [],
   "source": [
    "coef_df_bar = coef_df.loc[(coef_df[r'$\\alpha$'] != 0), :]\n",
    "\n",
    "fig, ax = plt.subplots(1, 1, figsize=(3.8, 4.6))\n",
    "coef_df_bar.T.plot(kind='barh', stacked=True, ax=ax,\n",
    "      colormap=plt.cm.spectral, legend=True,\n",
    "      table=False,\n",
    "      sort_columns=True)\n",
    "# Shrink current axis by 20%\n",
    "box = ax.get_position()\n",
    "ax.set_position([box.x0, box.y0*2.8, box.width, box.height*.8])\n",
    "ax.set_xlabel('Value of standardized coefficient')\n",
    "ax.legend(loc='center left', bbox_to_anchor=(0.0, -0.3), ncol=3, frameon=False)\n",
    "fig.text(0, 0.95, 'c', fontdict={'weight':'bold'})\n",
    "form_list = ['png', 'pdf', 'tif']\n",
    "for form in form_list:\n",
    "    line = 'Paper #2017WR021531-f9c.{}'.format(form)\n",
    "    fig_name = os.path.join(fig_dir, line)\n",
    "    plt.savefig(fig_name, dpi=300)"
   ]
  },
  {
   "cell_type": "code",
   "execution_count": null,
   "metadata": {
    "collapsed": false,
    "scrolled": false
   },
   "outputs": [],
   "source": [
    "print(\"Attributes Ordered by How Early They Enter the Model\")\n",
    "\n",
    "path_df = pd.DataFrame(path[0,::-1,:], index=param_range[::-1], columns=names)\n",
    "tmp = path_df != 0\n",
    "tmp.idxmax(axis=0).sort_values(ascending=False)"
   ]
  },
  {
   "cell_type": "code",
   "execution_count": null,
   "metadata": {
    "collapsed": false,
    "scrolled": false
   },
   "outputs": [],
   "source": [
    "a = pd.DataFrame(lrp.coef_.T, index=names, columns=targets)\n",
    "b = a.abs()\n",
    "b[b == 0] = np.nan\n",
    "b.dropna(axis=0, how='all', inplace=True)"
   ]
  },
  {
   "cell_type": "code",
   "execution_count": null,
   "metadata": {
    "collapsed": false,
    "scrolled": false
   },
   "outputs": [],
   "source": [
    "b.sort_values('wei_shape', ascending=False)"
   ]
  },
  {
   "cell_type": "code",
   "execution_count": null,
   "metadata": {
    "collapsed": false,
    "scrolled": false
   },
   "outputs": [],
   "source": [
    "b.sort_values('wei_scale', ascending=False)"
   ]
  },
  {
   "cell_type": "code",
   "execution_count": null,
   "metadata": {
    "collapsed": false,
    "scrolled": false
   },
   "outputs": [],
   "source": [
    "b.sort_values('wei_location', ascending=False)"
   ]
  }
 ],
 "metadata": {
  "kernelspec": {
   "display_name": "Python 3",
   "language": "python",
   "name": "python3"
  },
  "language_info": {
   "codemirror_mode": {
    "name": "ipython",
    "version": 3
   },
   "file_extension": ".py",
   "mimetype": "text/x-python",
   "name": "python",
   "nbconvert_exporter": "python",
   "pygments_lexer": "ipython3",
   "version": "3.5.3"
  }
 },
 "nbformat": 4,
 "nbformat_minor": 0
}
