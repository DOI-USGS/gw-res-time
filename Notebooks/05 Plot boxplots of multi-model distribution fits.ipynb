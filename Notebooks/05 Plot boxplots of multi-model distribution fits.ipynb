{
 "cells": [
  {
   "cell_type": "code",
   "execution_count": null,
   "metadata": {
    "collapsed": false
   },
   "outputs": [],
   "source": [
    "%matplotlib notebook\n",
    "import os\n",
    "import numpy as np\n",
    "import pandas as pd\n",
    "import matplotlib.pyplot as plt\n",
    "import pickle"
   ]
  },
  {
   "cell_type": "code",
   "execution_count": null,
   "metadata": {
    "collapsed": false
   },
   "outputs": [],
   "source": [
    "homes = ['../Models']\n",
    "fig_dir = '../Figures'\n",
    "\n",
    "mfpth = '../executables/MODFLOW-NWT_1.0.9/bin/MODFLOW-NWT_64.exe'\n",
    "mp_exe_name = '../executables/modpath.6_0/bin/mp6.exe' \n",
    "\n",
    "mf_start_date_str = '01/01/1900' \n",
    "mp_release_date_str = '01/01/2020' \n",
    "\n",
    "num_surf_layers = 3\n",
    "num_depth_groups = 5\n",
    "\n",
    "por = 0.20\n",
    "\n",
    "dir_list = []\n",
    "mod_list = []\n",
    "file_name = 'fit_dict_res_all_layers.pickle'\n",
    "\n",
    "i = 0\n",
    "\n",
    "for home in homes:\n",
    "    if os.path.exists(home):\n",
    "        for dirpath, dirnames, filenames in os.walk(home):\n",
    "            for f in filenames:\n",
    "                if file_name in f:\n",
    "                    mod = os.path.splitext(f)[0]\n",
    "                    mod_list.append(mod)\n",
    "                    dir_list.append(dirpath)\n",
    "                    i += 1\n",
    "print('    {} models read'.format(i))\n",
    "\n"
   ]
  },
  {
   "cell_type": "markdown",
   "metadata": {},
   "source": [
    "### Form the data sets"
   ]
  },
  {
   "cell_type": "markdown",
   "metadata": {},
   "source": [
    "The files **```fit_params_```** *model name* **```.csv```** contain the results of a unimodal Weibull fit to the ensemble of residence times in the glacial sediments. "
   ]
  },
  {
   "cell_type": "code",
   "execution_count": null,
   "metadata": {
    "collapsed": false
   },
   "outputs": [],
   "source": [
    "par_dict = {}\n",
    "\n",
    "for pth in dir_list:\n",
    "    src = os.path.join(pth, file_name)\n",
    "    if os.path.exists(src):\n",
    "        with open(src, 'rb') as f:\n",
    "            data = pickle.load(f)\n",
    "        err = {}\n",
    "        for well, df in data.items():\n",
    "            err[well] = df['err']\n",
    "            par_dict.update(err)"
   ]
  },
  {
   "cell_type": "markdown",
   "metadata": {},
   "source": [
    "This cells parses the 3 Weibull parameter values into a data frame.  The parameters are\n",
    "* **shape** (= 1 is an exponential distribution, which is the theoretical simple aquifer distribution)\n",
    "* **loc** (first arrival of a particle or smallest residence time)\n",
    "* **scale** (the spread of the data; may correspond to the range of sediment thickness)"
   ]
  },
  {
   "cell_type": "code",
   "execution_count": null,
   "metadata": {
    "collapsed": false
   },
   "outputs": [],
   "source": [
    "df = pd.DataFrame(par_dict)\n",
    "\n",
    "dfm = df.T\n",
    "dfm['best'] = dfm.idxmin(axis=1)\n",
    "dfm['worst'] = dfm.iloc[:, :9].idxmax(axis=1)\n",
    "dfm.loc['N', :] = dfm.count(axis=0)\n",
    "\n",
    "dst = os.path.join(fig_dir, 'rtd_error_all_layers_summary.csv')\n",
    "dfm.to_csv(dst)"
   ]
  },
  {
   "cell_type": "code",
   "execution_count": null,
   "metadata": {
    "collapsed": false
   },
   "outputs": [],
   "source": [
    "dfm.best.value_counts()"
   ]
  },
  {
   "cell_type": "code",
   "execution_count": null,
   "metadata": {
    "collapsed": false
   },
   "outputs": [],
   "source": [
    "font = {'family' : 'sans-serif',\n",
    "        'weight' : 'normal',\n",
    "        'size'   : 8,\n",
    "        'sans-serif' : 'Arial'}\n",
    "\n",
    "plt.rc('font', **font)"
   ]
  },
  {
   "cell_type": "code",
   "execution_count": null,
   "metadata": {
    "collapsed": false
   },
   "outputs": [],
   "source": [
    "i = dfm.columns"
   ]
  },
  {
   "cell_type": "code",
   "execution_count": null,
   "metadata": {
    "collapsed": false
   },
   "outputs": [],
   "source": [
    "newcol = dict(zip(i[:9],['Ge', 'Ie', 'We', 'Gi',\n",
    "       'Ii', 'Wi', 'G', 'I',\n",
    "       'W'] ))\n",
    "dfm = dfm.rename(columns=newcol)"
   ]
  },
  {
   "cell_type": "code",
   "execution_count": null,
   "metadata": {
    "collapsed": false
   },
   "outputs": [],
   "source": [
    "fig, ax = plt.subplots(1, 1, figsize=(4.6, 4.6))\n",
    "boxprops = {'showfliers':True, 'showcaps':False, 'color':'black'}\n",
    "cax = dfm.loc[:, :'W'].plot( kind='box', logy=False, ax=ax, **boxprops)\n",
    "ymin, ymax = cax.get_ylim()\n",
    "ax.set_ylabel('Root mean squared error', fontsize=12)\n",
    "ax.set_ylim(0, 0.06)\n",
    "ax.set_xticklabels(['G', 'I', 'W', 'G', 'I', 'W', 'G', 'I', 'W'])\n",
    "ax.text(1, 0.057, 'a', fontsize=8, fontdict={'weight':'bold'})\n",
    "ax.text(4, 0.057, 'b', fontsize=8, fontdict={'weight':'bold'})\n",
    "ax.text(7, 0.057, 'c', fontsize=8, fontdict={'weight':'bold'})\n",
    "ax.tick_params(axis='x', length=0)\n",
    "ax.axvline(3.5, color='k', lw=1, ls='dashed')\n",
    "ax.axvline(6.5, color='k', lw=1, ls='dashed')\n",
    "fig.set_tight_layout(True)\n",
    "\n",
    "form_list = ['png', 'pdf', 'tif']\n",
    "for form in form_list:\n",
    "    line = 'Paper #2017WR021531-f04.{}'.format(form)\n",
    "    fig_name = os.path.join(fig_dir, line)\n",
    "    plt.savefig(fig_name, dpi=300)"
   ]
  },
  {
   "cell_type": "code",
   "execution_count": null,
   "metadata": {
    "collapsed": true
   },
   "outputs": [],
   "source": []
  }
 ],
 "metadata": {
  "kernelspec": {
   "display_name": "Python 3",
   "language": "python",
   "name": "python3"
  },
  "language_info": {
   "codemirror_mode": {
    "name": "ipython",
    "version": 3
   },
   "file_extension": ".py",
   "mimetype": "text/x-python",
   "name": "python",
   "nbconvert_exporter": "python",
   "pygments_lexer": "ipython3",
   "version": "3.5.3"
  }
 },
 "nbformat": 4,
 "nbformat_minor": 0
}
