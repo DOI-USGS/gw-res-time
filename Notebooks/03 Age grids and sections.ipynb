{
 "cells": [
  {
   "cell_type": "code",
   "execution_count": null,
   "metadata": {
    "collapsed": false,
    "scrolled": false
   },
   "outputs": [],
   "source": [
    "%matplotlib notebook\n",
    "\n",
    "from IPython.display import set_matplotlib_formats\n",
    "set_matplotlib_formats('png', 'pdf')\n",
    "from IPython.display import Image\n",
    "from IPython.display import Math\n",
    "from ipywidgets import interact, Dropdown\n",
    "from IPython.display import display\n",
    "\n",
    "import os\n",
    "import sys\n",
    "import shutil\n",
    "import pickle\n",
    "# import subprocess as sp\n",
    "import numpy as np\n",
    "import datetime as dt\n",
    "import matplotlib.pyplot as plt\n",
    "import matplotlib.gridspec as gridspec\n",
    "import geopandas as gp\n",
    "import flopy as fp\n",
    "import fit_parametric_distributions\n",
    "import imeth\n",
    "import pandas as pd\n",
    "import gdal\n",
    "import scipy.stats as ss\n",
    "import scipy.optimize as so\n",
    "from scipy.interpolate import Rbf\n",
    "from scipy.interpolate import griddata\n",
    "from scipy.interpolate import UnivariateSpline"
   ]
  },
  {
   "cell_type": "code",
   "execution_count": null,
   "metadata": {
    "collapsed": false,
    "scrolled": false
   },
   "outputs": [],
   "source": [
    "homes = ['../Models']\n",
    "fig_dir = '../Figures'\n",
    "\n",
    "mfpth = '../executables/MODFLOW-NWT_1.0.9/bin/MODFLOW-NWT_64.exe'\n",
    "mp_exe_name = '../executables/modpath.6_0/bin/mp6.exe' \n",
    "\n",
    "mf_start_date_str = '01/01/1900' \n",
    "mp_release_date_str = '01/01/2020' \n",
    "\n",
    "num_surf_layers = 3\n",
    "num_depth_groups = 5\n",
    "\n",
    "por = 0.20\n",
    "\n",
    "dir_list = []\n",
    "mod_list = []\n",
    "i = 0\n",
    "\n",
    "for home in homes:\n",
    "    if os.path.exists(home):\n",
    "        for dirpath, dirnames, filenames in os.walk(home):\n",
    "            for f in filenames:\n",
    "                if os.path.splitext(f)[-1] == '.nam':\n",
    "                    mod = os.path.splitext(f)[0]\n",
    "                    mod_list.append(mod)\n",
    "                    dir_list.append(dirpath)\n",
    "                    i += 1\n",
    "print('    {} models read'.format(i))\n",
    "\n",
    "model_area = Dropdown(\n",
    "    options=mod_list,\n",
    "    description='Model:',\n",
    "    background_color='cyan',\n",
    "    border_color='black',\n",
    "    border_width=2)\n",
    "display(model_area)\n",
    "\n",
    "with open('dir_list.txt', 'w') as f:\n",
    "    for i in dir_list:\n",
    "        f.write('{}\\n'.format(i))"
   ]
  },
  {
   "cell_type": "code",
   "execution_count": null,
   "metadata": {
    "collapsed": true
   },
   "outputs": [],
   "source": [
    "agelay = 3"
   ]
  },
  {
   "cell_type": "code",
   "execution_count": null,
   "metadata": {
    "collapsed": false,
    "scrolled": false
   },
   "outputs": [],
   "source": [
    "model = model_area.value\n",
    "model_ws = [item for item in dir_list if model in item][0]\n",
    "nam_file = '{}.nam'.format(model)\n",
    "print(\"working model is {}\".format(model_ws))"
   ]
  },
  {
   "cell_type": "code",
   "execution_count": null,
   "metadata": {
    "collapsed": true
   },
   "outputs": [],
   "source": [
    "# for pth in dir_list:\n",
    "#     model = os.path.normpath(pth).split(os.sep)[2]\n",
    "#     model_ws = [item for item in dir_list if model in item][0]\n",
    "#     nam_file = '{}.nam'.format(model)\n",
    "#     print(\"working model is {}\".format(model_ws))"
   ]
  },
  {
   "cell_type": "code",
   "execution_count": null,
   "metadata": {
    "collapsed": false,
    "scrolled": false
   },
   "outputs": [],
   "source": [
    "print ('Reading model information')\n",
    "\n",
    "fpmg = fp.modflow.Modflow.load(nam_file, model_ws=model_ws, exe_name=mfpth, version='mfnwt', \n",
    "                               load_only=['DIS', 'BAS6', 'UPW', 'OC'], check=False)\n",
    "\n",
    "dis = fpmg.get_package('DIS')\n",
    "bas = fpmg.get_package('BAS6')\n",
    "upw = fpmg.get_package('UPW')\n",
    "oc = fpmg.get_package('OC')\n",
    "\n",
    "delr = dis.delr\n",
    "delc = dis.delc\n",
    "nlay = dis.nlay\n",
    "nrow = dis.nrow\n",
    "ncol = dis.ncol\n",
    "bot = dis.getbotm()\n",
    "# top = dis.gettop()\n",
    "# hk = upw.hk.get_value()\n",
    "\n",
    "hnoflo = bas.hnoflo\n",
    "ibound = np.asarray(bas.ibound.get_value())\n",
    "hdry = upw.hdry\n",
    "row_to_plot = np.int32(dis.nrow / 2)\n",
    "\n",
    "print ('   ... done') "
   ]
  },
  {
   "cell_type": "code",
   "execution_count": null,
   "metadata": {
    "collapsed": true,
    "scrolled": false
   },
   "outputs": [],
   "source": [
    "# setup dictionaries of the MODFLOW units for proper labeling of figures.\n",
    "lenunit = {0:'undefined units', 1:'feet', 2:'meters', 3:'centimeters'}\n",
    "timeunit = {0:'undefined', 1:'second', 2:'minute', 3:'hour', 4:'day', 5:'year'}\n",
    "\n",
    "# Create dictionary of multipliers for converting model time units to days\n",
    "time_dict = dict()\n",
    "time_dict[0] = 1.0 # undefined assumes days, so enter conversion to days\n",
    "time_dict[1] = 24 * 60 * 60\n",
    "time_dict[2] = 24 * 60\n",
    "time_dict[3] = 24\n",
    "time_dict[4] = 1.0\n",
    "time_dict[5] = 1.0"
   ]
  },
  {
   "cell_type": "code",
   "execution_count": null,
   "metadata": {
    "collapsed": true,
    "scrolled": false
   },
   "outputs": [],
   "source": [
    "# convert string representation of dates into Python datetime objects\n",
    "mf_start_date = dt.datetime.strptime(mf_start_date_str , '%m/%d/%Y')\n",
    "mp_release_date = dt.datetime.strptime(mp_release_date_str , '%m/%d/%Y')\n",
    "\n",
    "# convert simulation time to days from the units specified in the MODFLOW DIS file\n",
    "sim_time = np.append(0, dis.get_totim())\n",
    "sim_time /= time_dict[dis.itmuni]\n",
    "\n",
    "# make a list of simulation time formatted as calendar dates\n",
    "date_list = [mf_start_date + dt.timedelta(days = item) for item in sim_time]\n",
    "\n",
    "# reference time and date are set to the end of the last stress period\n",
    "ref_time = sim_time[-1]\n",
    "ref_date = date_list[-1]\n",
    "\n",
    "# release time is calculated in tracking time (for particle release) and \n",
    "# in simulation time (for identifying head and budget components)\n",
    "release_time_trk = np.abs((ref_date - mp_release_date).days)\n",
    "release_time_sim = (mp_release_date - mf_start_date).days"
   ]
  },
  {
   "cell_type": "code",
   "execution_count": null,
   "metadata": {
    "collapsed": true
   },
   "outputs": [],
   "source": [
    "src_pth = os.path.dirname(model_ws)\n",
    "src = os.path.join(src_pth, 'top.tif')\n",
    "nf = gdal.Open(src)\n",
    "band = nf.GetRasterBand(1)\n",
    "land_surface = band.ReadAsArray()\n",
    "gt = nf.GetGeoTransform()\n",
    "proj = nf.GetProjection()\n",
    "nf = None"
   ]
  },
  {
   "cell_type": "code",
   "execution_count": null,
   "metadata": {
    "collapsed": true
   },
   "outputs": [],
   "source": [
    "src = os.path.join(model_ws, fpmg.namefile)\n",
    "name_file_df = pd.read_table(src, header=None, comment='#', delim_whitespace=True, \n",
    "              names=['package', 'unit', 'filename', 'type'])\n",
    "\n",
    "name_file_df['package'] = name_file_df.package.str.lower()\n",
    "name_file_df.set_index('unit', inplace=True)\n",
    "\n",
    "head_file_name = name_file_df.loc[oc.iuhead, 'filename']\n",
    "bud_file_name = name_file_df.loc[oc.get_budgetunit(), 'filename']"
   ]
  },
  {
   "cell_type": "code",
   "execution_count": null,
   "metadata": {
    "collapsed": false
   },
   "outputs": [],
   "source": [
    "src = os.path.join(model_ws, head_file_name)\n",
    "hd_obj = fp.utils.HeadFile(src)\n",
    "head_df = pd.DataFrame(hd_obj.recordarray)\n",
    "\n",
    "heads = hd_obj.get_data(kstpkper=(0, 0))\n",
    "\n",
    "heads[heads == hnoflo] = np.nan\n",
    "heads[heads <= hdry] = np.nan\n",
    "heads[heads > 1E+29] = np.nan\n",
    "\n",
    "hin = np.argmax(np.isfinite(heads), axis=0)\n",
    "row, col = np.indices((hin.shape))\n",
    "water_table = heads[hin, row, col]"
   ]
  },
  {
   "cell_type": "code",
   "execution_count": null,
   "metadata": {
    "collapsed": false
   },
   "outputs": [],
   "source": [
    "# Transform GWPs into fractional row, column coordinates for each model    \n",
    "# format the geotransformation list into an affine transformation matrix\n",
    "forward_transform = np.array(gt).reshape(2, -1)\n",
    "# add a row to get homogeneous coodinates (offsets are in the first column)\n",
    "forward_transform = np.vstack((forward_transform, [1, 0, 0]))\n",
    "\n",
    "# reverse transform cell-center coordinates to projected coordinates\n",
    "r, c = np.indices(water_table.shape)\n",
    "dum = np.column_stack((np.ones_like(c.ravel()), c.ravel() + 0.5, r.ravel() + 0.5)) \n",
    "dat = forward_transform.dot(dum.T).T\n",
    "xdat = dat[:,0].reshape(water_table.shape)\n",
    "ydat = dat[:,1].reshape(water_table.shape)\n",
    "\n",
    "index = np.isfinite(water_table[row_to_plot, :])\n",
    "\n",
    "xplot = xdat[row_to_plot, index]"
   ]
  },
  {
   "cell_type": "code",
   "execution_count": null,
   "metadata": {
    "collapsed": false
   },
   "outputs": [],
   "source": [
    "font = {'family' : 'sans-serif',\n",
    "        'weight' : 'normal',\n",
    "        'size'   : 8,\n",
    "        'sans-serif' : 'Arial'}\n",
    "\n",
    "plt.rc('font', **font)"
   ]
  },
  {
   "cell_type": "code",
   "execution_count": null,
   "metadata": {
    "collapsed": false
   },
   "outputs": [],
   "source": [
    "fig, ax1 = plt.subplots(1, 1, figsize=(7.4,4))\n",
    "\n",
    "colors = ['green', 'red', 'gray']\n",
    "\n",
    "ax1.plot(xplot, land_surface[row_to_plot, index], label='land surface', color='black', lw=0.5)\n",
    "ax1.plot(xplot, water_table[row_to_plot, index], label='simulated\\nwater table', color='blue', lw=0.75)\n",
    "ax1.fill_between(xplot, land_surface[row_to_plot, index], bot[0, row_to_plot, index], alpha=0.25, \n",
    "                 color='blue', lw=0.75)\n",
    "for lay in range(dis.nlay - 1):\n",
    "    ax1.fill_between(xplot, bot[lay, row_to_plot, index], bot[lay+1, row_to_plot, index],  \n",
    "                    color=colors[lay], alpha=0.250, lw=0.75)\n",
    "ax1.plot(xplot, bot[-2, row_to_plot, index], label='bedrock', color='red', linestyle='dotted', lw=1.5)\n",
    "ax1.plot(xplot, bot[-1, row_to_plot, index], color='black', linestyle='solid', lw=0.5)\n",
    "ax1.legend(loc=0, frameon=False, ncol=1)#, bbox_to_anchor=(1.0, 0.5))\n",
    "ax1.set_ylabel('Altitude in meters')\n",
    "ax1.set_xlabel('Albers Equal Area meters GRS80')\n",
    "fig.tight_layout()\n",
    "\n",
    "form_list = ['png', 'pdf', 'tif']\n",
    "for form in form_list:\n",
    "    line = '{}_xs_cal.{}'.format(model, form)\n",
    "    fig_name = os.path.join(fig_dir, line)\n",
    "    plt.savefig(fig_name)\n",
    "# plt.close()"
   ]
  },
  {
   "cell_type": "code",
   "execution_count": null,
   "metadata": {
    "collapsed": true
   },
   "outputs": [],
   "source": [
    "# form the path to the endpoint file\n",
    "mpname = '{}_flux'.format(fpmg.name)\n",
    "endpoint_file = '{}.{}'.format(mpname, 'mpend')\n",
    "endpoint_file = os.path.join(model_ws, endpoint_file)"
   ]
  },
  {
   "cell_type": "code",
   "execution_count": null,
   "metadata": {
    "collapsed": false
   },
   "outputs": [],
   "source": [
    "ep_data = fit_parametric_distributions.read_endpoints(endpoint_file, dis, time_dict)"
   ]
  },
  {
   "cell_type": "code",
   "execution_count": null,
   "metadata": {
    "collapsed": false
   },
   "outputs": [],
   "source": [
    "n = 100 # number of points to interpolate to in a vertical column at cell center\n",
    "tthk = water_table[row_to_plot, index] - bot[-1, row_to_plot, index]\n",
    "incr = np.linspace(0, 1, n, endpoint=True).reshape(n, 1)\n",
    "pt = bot[-1, row_to_plot, index] + incr * tthk\n",
    "xx = xplot * np.ones(pt.shape)"
   ]
  },
  {
   "cell_type": "code",
   "execution_count": null,
   "metadata": {
    "collapsed": true
   },
   "outputs": [],
   "source": [
    "xpoints = ep_data.loc[ep_data['Initial Row'] == row_to_plot, ['Initial Column', 'Initial Local X']].sum(axis=1)\n",
    "ypoints = ep_data.loc[ep_data['Initial Row'] == row_to_plot, ['Initial Row', 'Initial Local Y']].sum(axis=1)\n",
    "dum = np.column_stack((np.ones_like(xpoints), xpoints, ypoints)) \n",
    "points = forward_transform.dot(dum.T).T\n",
    "points[:, 2] = ep_data.loc[ep_data['Initial Row'] == row_to_plot, 'Initial Global Z']"
   ]
  },
  {
   "cell_type": "code",
   "execution_count": null,
   "metadata": {
    "collapsed": false
   },
   "outputs": [],
   "source": [
    "values = ep_data.loc[ep_data['Initial Row'] == row_to_plot, 'rt'].values\n",
    "xi = np.column_stack((xx.ravel(), pt.ravel()))\n",
    "tmp = griddata(points[:, 0::2], values, xi, method='linear')\n",
    "age = tmp.reshape(pt.shape)"
   ]
  },
  {
   "cell_type": "code",
   "execution_count": null,
   "metadata": {
    "collapsed": false
   },
   "outputs": [],
   "source": [
    "fig, ax1 = plt.subplots(1, 1, figsize=(7.4, 4.6))\n",
    "\n",
    "colors = ['green', 'red', 'gray']\n",
    "colors_poly = plt.cm.rainbow(np.linspace(0, 1, nlay+1))\n",
    "colors_mark = plt.cm.spectral(np.linspace(0, 1, 6))\n",
    "alfa_poly = 0.50\n",
    "alfa_mark = 1.0\n",
    "\n",
    "im = ax1.contourf(xplot * np.ones((n, 1)), pt[:], age[:], colors=colors_poly, alpha=0.5, \n",
    "                  levels=[0, 10, 50, 100, 500, 10000])\n",
    "\n",
    "cbar = fig.colorbar(im, orientation='horizontal', shrink=0.5, pad=0.10, use_gridspec=True) \n",
    "cbar.ax.set_xlabel('Particle travel time / porosity in years', rotation=0, y=1.5, ha='center')\n",
    "\n",
    "ax1.plot(xplot, land_surface[row_to_plot, index], label='land surface', color='black', lw=0.5)\n",
    "ax1.plot(xplot, water_table[row_to_plot, index], label='simulated\\nwater table', color='blue', lw=0.75)\n",
    "ax1.plot(xplot, bot[-2, row_to_plot, index], label='bedrock', color='black', linestyle='dotted', lw=1.5)\n",
    "ax1.plot(xplot, bot[-1, row_to_plot, index], color='black', linestyle='solid', lw=0.5)\n",
    "ax1.legend(loc=0, frameon=False, ncol=1)\n",
    "ax1.set_ylabel('Altitude in meters')\n",
    "ax1.set_xlabel('Albers Equal Area meters GRS80')\n",
    "fig.text(0.01, 0.95, 'a', fontdict={'weight':'bold'})\n",
    "fig.tight_layout()\n",
    "\n",
    "form_list = ['png', 'pdf', 'tif']\n",
    "for form in form_list:\n",
    "    line = 'Paper #2017WR021531-f03a.{}'.format(form)\n",
    "    fig_name = os.path.join(fig_dir, line)\n",
    "    plt.savefig(fig_name, dpi=300)\n"
   ]
  },
  {
   "cell_type": "code",
   "execution_count": null,
   "metadata": {
    "collapsed": false
   },
   "outputs": [],
   "source": [
    "# initiate a plot for individual model residuals (small areas)\n",
    "fig2, ax2 = plt.subplots(1, 1, figsize=(7.4, 4.6))\n",
    "im = ax2.contourf(xdat, ydat, water_table, cmap=plt.cm.spectral, interpolation='none', alpha=0.4)\n",
    "\n",
    "cbar = fig2.colorbar(im, orientation='horizontal', shrink=0.5, pad=0.10, use_gridspec=True) \n",
    "cbar.ax.set_xlabel('Simulated water table altitude in meters', rotation=0, y=1.5, ha='center')\n",
    "\n",
    "src = os.path.dirname(model_ws)\n",
    "fname1 = 'domain_outline.shp'\n",
    "f = os.path.join(src, fname1)\n",
    "basin = gp.read_file(f)\n",
    "basin.plot(ax=ax2, color='none', linewidth=1.00, alpha=1.0, **{'edgecolor':'k'})    \n",
    "\n",
    "fname2 = 'clip_box.shp'\n",
    "f = os.path.join(src, fname2)\n",
    "clip = gp.read_file(f)\n",
    "clip.plot(ax=ax2, color='none', linewidth=1.0, alpha=0.5, **{'edgecolor':'k'})\n",
    "\n",
    "fname3 = 'NHD_clip.shp'\n",
    "f = os.path.join(src, fname3)\n",
    "streams = gp.read_file(f)\n",
    "streams.plot(ax=ax2, color='b', linewidth=1.0, alpha=0.5)\n",
    "\n",
    "ax2.plot(xdat[row_to_plot, index], ydat[row_to_plot, index], color='k', lw=2)\n",
    "\n",
    "#     to make small area plots compact, first set the axis limits to the data extent\n",
    "ymin = ydat.min()\n",
    "ymax = ydat.max()\n",
    "xmin = xdat.min()\n",
    "xmax = xdat.max()\n",
    "ax2.set_xlim(xmin, xmax)\n",
    "ax2.set_ylim(ymin, ymax)\n",
    "    \n",
    "    # make sure the scale for both axes are equal\n",
    "fig2.gca().set_aspect('equal', adjustable='datalim', anchor='SW')  \n",
    "ax2.set_xlabel('Albers Equal Area meters GRS80')\n",
    "fig2.text(0.01, 0.95, 'b', fontdict={'weight':'bold'})\n",
    "\n",
    "fig2.set_tight_layout(True)\n",
    "\n",
    "try:\n",
    "    src = os.path.join(model_ws, 'WEL', 'well_gdf.shp')\n",
    "    well = gp.read_file(src)\n",
    "    well.plot(ax=ax2, color='black', markersize=6)\n",
    "except:\n",
    "    pass\n",
    "\n",
    "form_list = ['png', 'pdf', 'tif']\n",
    "for form in form_list:\n",
    "    line = '{}_head_map.{}'.format(model, form)\n",
    "    fig_name = os.path.join(fig_dir, line)\n",
    "    plt.savefig(fig_name)\n"
   ]
  },
  {
   "cell_type": "code",
   "execution_count": null,
   "metadata": {
    "collapsed": false
   },
   "outputs": [],
   "source": [
    "agelay = 3\n",
    "age2d = ep_data.loc[ep_data['Initial Layer'] == agelay, :]\n",
    "age2d = age2d.groupby('initial_node_num').median()\n",
    "\n",
    "ncells_in_layer = nrow * ncol\n",
    "begin = (agelay - 1) * ncells_in_layer\n",
    "end = begin + ncells_in_layer\n",
    "\n",
    "nindex = np.arange(begin, end, 1)\n",
    "\n",
    "age2d = age2d.reindex(nindex)\n",
    "\n",
    "ageL = age2d.rt.values.reshape(nrow, ncol)"
   ]
  },
  {
   "cell_type": "code",
   "execution_count": null,
   "metadata": {
    "collapsed": false
   },
   "outputs": [],
   "source": [
    "# initiate a plot for individual model residuals (small areas)\n",
    "fig2, ax2 = plt.subplots(1, 1, figsize=(7.4, 4.6))\n",
    "\n",
    "im = ax2.contourf(xdat, ydat, ageL, colors=colors_poly, alpha=0.5, \n",
    "                  levels=[0, 10, 50, 100, 500, 10000])\n",
    "\n",
    "# cbar = fig2.colorbar(im, orientation='horizontal', shrink=0.5, pad=0.10, use_gridspec=True) \n",
    "# cbar.ax.set_xlabel('Particle travel time / porosity in years', rotation=0, y=1.5, ha='center')\n",
    "\n",
    "src = os.path.dirname(model_ws)\n",
    "fname1 = 'domain_outline.shp'\n",
    "f = os.path.join(src, fname1)\n",
    "basin = gp.read_file(f)\n",
    "basin.plot(ax=ax2, color='none', linewidth=1.00, alpha=1.0, **{'edgecolor':'k'})    \n",
    "\n",
    "# fname2 = 'clip_box.shp'\n",
    "# f = os.path.join(src, fname2)\n",
    "# clip = gp.read_file(f)\n",
    "# clip.plot(ax=ax2, color='none', linewidth=1.0, alpha=0.5, **{'edgecolor':'k'})\n",
    "\n",
    "fname3 = 'NHD_clip.shp'\n",
    "f = os.path.join(src, fname3)\n",
    "streams = gp.read_file(f)\n",
    "streams.plot(ax=ax2, color='b', linewidth=0.5, alpha=1.0)\n",
    "\n",
    "ax2.plot(xdat[row_to_plot, index], ydat[row_to_plot, index], color='k', lw=1)\n",
    "\n",
    "# ax2.set_xlabel('Albers Equal Area meters GRS80')\n",
    "#     to make small area plots compact, first set the axis limits to the data extent\n",
    "# ymin = ydat.min()\n",
    "# ymax = ydat.max()\n",
    "# xmin = xdat.min()\n",
    "# xmax = xdat.max()\n",
    "# ax2.set_xlim(xmin, xmax)\n",
    "# ax2.set_ylim(ymin, ymax)\n",
    "    \n",
    "    # make sure the scale for both axes are equal\n",
    "ax2.set_aspect('equal', adjustable='box-forced', anchor='SW')  \n",
    "fig2.text(0.01, 0.95, 'b', fontdict={'weight':'bold'})\n",
    "# ax2.spines['right'].set_visible(False)\n",
    "# ax2.spines['top'].set_visible(False)\n",
    "# ax2.spines['left'].set_visible(False)\n",
    "# ax2.spines['bottom'].set_visible(False)\n",
    "\n",
    "\n",
    "fig2.set_tight_layout(True)\n",
    "\n",
    "line = '{}_age_layer_{}.png'.format(model, agelay)\n",
    "fig_name = os.path.join(fig_dir, line)\n",
    "plt.savefig(fig_name)\n",
    "# plt.close()\n",
    "\n",
    "form_list = ['png', 'pdf', 'tif']\n",
    "for form in form_list:\n",
    "    line = 'Paper #2017WR021531-f03b.{}'.format(form)\n",
    "    fig_name = os.path.join(fig_dir, line)\n",
    "    plt.savefig(fig_name, dpi=300)\n"
   ]
  },
  {
   "cell_type": "code",
   "execution_count": null,
   "metadata": {
    "collapsed": false
   },
   "outputs": [],
   "source": [
    "dst = '{}_lay{}.tif'.format(model, agelay)\n",
    "dst_file = os.path.join(fig_dir, dst)\n",
    "\n",
    "import gdal\n",
    "driver = gdal.GetDriverByName(\"GTiff\")\n",
    "dst = driver.Create(dst_file, ncol, nrow, 1, gdal.GDT_Float32)\n",
    "dst.SetGeoTransform(gt)\n",
    "dst.SetProjection(proj)\n",
    "band = dst.GetRasterBand(1)\n",
    "band.SetNoDataValue(-9999)\n",
    "band.WriteArray(ageL)\n",
    "dst = None\n",
    "\n",
    "\n",
    "xs_x = xdat[row_to_plot, index]\n",
    "xs_y = ydat[row_to_plot, index]\n",
    "\n",
    "from shapely.geometry import Point, LineString\n",
    "line = LineString([Point(xs_x[0], xs_y[0]), Point(xs_x[-1], xs_y[-1])])\n",
    "\n",
    "xs_line = gp.GeoDataFrame(geometry = gp.GeoSeries(line), crs=streams.crs)\n",
    "\n",
    "dst = '{}_xsline.shp'.format(model)\n",
    "dst_file = os.path.join(fig_dir, dst)\n",
    "\n",
    "\n",
    "dst_file\n",
    "\n",
    "xs_line.to_file(dst_file)"
   ]
  },
  {
   "cell_type": "code",
   "execution_count": null,
   "metadata": {
    "collapsed": false
   },
   "outputs": [],
   "source": [
    "fig = plt.figure(figsize=(7.4, 6))\n",
    "\n",
    "gs = gridspec.GridSpec(10, 10)\n",
    "gs.update(wspace=0.0, hspace=0.08, top=0.98, left=0.08, right=0.92)\n",
    "\n",
    "ax1 = plt.subplot(gs[0:3, 0:9])\n",
    "ax2 = plt.subplot(gs[3:-1, 0:9], sharex=ax1)\n",
    "ax3 = plt.subplot(gs[2:7, 9])\n",
    "\n",
    "colors_poly = plt.cm.rainbow(np.linspace(0, 1, nlay+1))\n",
    "alfa_poly = 0.60\n",
    "levels = [0, 10, 50, 100, 500, 10000]\n",
    "\n",
    "im = ax1.contourf(xplot * np.ones((n, 1)), pt[:], age[:], colors=colors_poly, alpha=alfa_poly, \n",
    "                  levels=levels, antialiased=True)\n",
    "\n",
    "ax1.plot(xplot, land_surface[row_to_plot, index], label='land surface', color='black', lw=0.5)\n",
    "ax1.plot(xplot, water_table[row_to_plot, index], label='simulated\\nwater table', color='blue', lw=0.75)\n",
    "ax1.plot(xplot, bot[num_surf_layers-2, row_to_plot, index], label='bedrock',\n",
    "         color='black', linestyle='solid', lw=0.5, alpha=alfa_poly)\n",
    "ax1.plot(xplot, bot[num_surf_layers-1, row_to_plot, index], label='bedrock', \n",
    "         color='black', linestyle='solid', lw=0.5, alpha=alfa_poly)\n",
    "ax1.plot(xplot, bot[-1, row_to_plot, index], color='black', linestyle='solid', lw=0.5)\n",
    "\n",
    "ax1.set_aspect('auto', adjustable='box-forced', anchor='NE')  \n",
    "ax1.set_ylabel('Altitude in meters')\n",
    "ax1.spines['right'].set_visible(False)\n",
    "ax1.spines['top'].set_visible(False)\n",
    "ax1.spines['left'].set_visible(True)\n",
    "ax1.spines['bottom'].set_visible(False)\n",
    "ax1.tick_params('x', length=0)\n",
    "\n",
    "im = ax2.contourf(xdat, ydat, ageL, colors=colors_poly, alpha=alfa_poly, levels=levels,\n",
    "                 antialiased=True)\n",
    "\n",
    "src = os.path.dirname(model_ws)\n",
    "fname1 = 'domain_outline.shp'\n",
    "f = os.path.join(src, fname1)\n",
    "basin = gp.read_file(f)\n",
    "basin.plot(ax=ax2, color='none', linewidth=1.00, alpha=1.0, **{'edgecolor':'k'})    \n",
    "\n",
    "# fname2 = 'clip_box.shp'\n",
    "# f = os.path.join(src, fname2)\n",
    "# clip = gp.read_file(f)\n",
    "# clip.plot(ax=ax2, color='none', linewidth=1.0, alpha=0.5, **{'edgecolor':'k'})\n",
    "\n",
    "fname3 = 'NHD_clip.shp'\n",
    "f = os.path.join(src, fname3)\n",
    "streams = gp.read_file(f)\n",
    "streams.plot(ax=ax2, color='b', linewidth=0.5, alpha=1.0)\n",
    "\n",
    "ax2.plot(xdat[row_to_plot, index], ydat[row_to_plot, index], color='k', lw=1)\n",
    "\n",
    "ax2.set_aspect('equal', adjustable='box-forced', anchor='NE')\n",
    "ax2.spines['right'].set_visible(False)\n",
    "ax2.spines['top'].set_visible(False)\n",
    "ax2.spines['left'].set_visible(False)\n",
    "ax2.spines['bottom'].set_visible(False)\n",
    "ax2.tick_params('both', length=5)\n",
    "\n",
    "cbar = fig.colorbar(im, cax=ax3, ax=ax3, orientation='vertical')#, shrink=0.5, pad=0.10, use_gridspec=True) \n",
    "cbar.ax.set_ylabel('Particle travel time / porosity in years', rotation=90, x=0.1, y=0.5, ha='center')\n",
    "ax3.set_xmargin(0)\n",
    "ax3.set_ymargin(0)\n",
    "ax3.set_aspect(15)\n",
    "\n",
    "fig.text(0.01, 0.96, 'a', fontdict={'weight':'bold'})\n",
    "fig.text(0.01, 0.68, 'b', fontdict={'weight':'bold'})\n",
    "fig.text(0.90, 0.12, 'Albers Equal Area meters GRS80', ha='right')\n",
    "\n",
    "form_list = ['png', 'pdf', 'tif']\n",
    "for form in form_list:\n",
    "    line = 'Paper #2017WR021531-f03_combined.{}'.format(form)\n",
    "    fig_name = os.path.join(fig_dir, line)\n",
    "    plt.savefig(fig_name, dpi=300)\n",
    "# plt.close()"
   ]
  },
  {
   "cell_type": "code",
   "execution_count": null,
   "metadata": {
    "collapsed": false
   },
   "outputs": [],
   "source": [
    "# experimental\n",
    "\n",
    "# from matplotlib.transforms import Affine2D\n",
    "# import mpl_toolkits.axisartist.floating_axes as floating_axes\n",
    "# import mpl_toolkits.axisartist.angle_helper as angle_helper\n",
    "# from matplotlib.projections import PolarAxes\n",
    "# from mpl_toolkits.axisartist.grid_finder import (FixedLocator, MaxNLocator,\n",
    "#                                                  DictFormatter)\n",
    "\n",
    "# x, y = clip.loc[0, 'geometry'].exterior.coords.xy\n",
    "# exts = (x[0], x[2], y[3], y[1])\n",
    "\n",
    "# src = os.path.join(os.path.dirname(model_ws), 'grid_spec.txt')\n",
    "\n",
    "# with open(src) as f:\n",
    "#     lines = f.readlines()\n",
    "\n",
    "# key = 'Rotation about upper left corner in radians and degrees from positive x axis\\n'\n",
    "# lineno = [item for item in enumerate(lines) if key in item][0][0] + 1\n",
    "# angle = np.float32(lines[lineno].split()[1])\n",
    "\n",
    "# def setup_axes1(fig, rect):\n",
    "#     \"\"\"\n",
    "#     A simple one.\n",
    "#     \"\"\"\n",
    "#     tr = Affine2D().scale(2, 1).rotate_deg(angle)\n",
    "\n",
    "#     grid_helper = floating_axes.GridHelperCurveLinear(\n",
    "#         tr, extremes=exts)\n",
    "\n",
    "#     ax1 = floating_axes.FloatingSubplot(fig, rect, grid_helper=grid_helper)\n",
    "#     fig.add_subplot(ax1)\n",
    "\n",
    "#     aux_ax = ax1.get_aux_axes(tr)\n",
    "\n",
    "#     grid_helper.grid_finder.grid_locator1._nbins = 4\n",
    "#     grid_helper.grid_finder.grid_locator2._nbins = 4\n",
    "\n",
    "#     return ax1, aux_ax\n",
    "\n",
    "# fig = plt.figure(1, figsize=(8, 4))\n",
    "# # fig.subplots_adjust(wspace=0.3, left=0.05, right=0.95)\n",
    "\n",
    "# ax1, aux_ax1 = setup_axes1(fig, 111)\n",
    "# # streams.plot(ax=aux_ax1)\n",
    "# # basin.plot(ax=aux_ax1)\n",
    "# clip.plot(ax=aux_ax1)\n",
    "# # fig.gca().set_aspect('equal', adjustable='datalim', anchor='SW')  \n",
    "\n"
   ]
  },
  {
   "cell_type": "code",
   "execution_count": null,
   "metadata": {
    "collapsed": true
   },
   "outputs": [],
   "source": []
  }
 ],
 "metadata": {
  "kernelspec": {
   "display_name": "Python 3",
   "language": "python",
   "name": "python3"
  },
  "language_info": {
   "codemirror_mode": {
    "name": "ipython",
    "version": 3
   },
   "file_extension": ".py",
   "mimetype": "text/x-python",
   "name": "python",
   "nbconvert_exporter": "python",
   "pygments_lexer": "ipython3",
   "version": "3.5.3"
  }
 },
 "nbformat": 4,
 "nbformat_minor": 2
}
