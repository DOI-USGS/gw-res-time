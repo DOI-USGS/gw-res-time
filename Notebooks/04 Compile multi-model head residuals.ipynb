{
 "cells": [
  {
   "cell_type": "code",
   "execution_count": null,
   "metadata": {
    "collapsed": false,
    "scrolled": true
   },
   "outputs": [],
   "source": [
    "__author__ = 'Jeff Starn'\n",
    "%matplotlib notebook\n",
    "\n",
    "from IPython.display import set_matplotlib_formats\n",
    "set_matplotlib_formats('png', 'pdf')\n",
    "from IPython.display import Image\n",
    "from IPython.display import Math\n",
    "\n",
    "import os\n",
    "import shelve\n",
    "import numpy as np\n",
    "import matplotlib.pyplot as plt\n",
    "import pandas as pd\n",
    "import geopandas as gp\n",
    "import gdal, osr\n",
    "gdal.UseExceptions()\n",
    "import flopy as fp\n",
    "import seaborn as sns\n",
    "import scipy.interpolate as si"
   ]
  },
  {
   "cell_type": "markdown",
   "metadata": {},
   "source": [
    "Read groundwater point (\"GWP\") locations with depth to water and land surface altitude fom Terri Arnold"
   ]
  },
  {
   "cell_type": "code",
   "execution_count": null,
   "metadata": {
    "collapsed": false,
    "scrolled": true
   },
   "outputs": [],
   "source": [
    "src = os.path.join('../Data/GWSW_points', 'GWSW_points.shp')\n",
    "all_wells = gp.read_file(src)"
   ]
  },
  {
   "cell_type": "markdown",
   "metadata": {},
   "source": [
    "Loop through all the general models that were created for this study. Read the heads and land surface altitude for them. Sites selected to encompass the highest fraction of Terri's data."
   ]
  },
  {
   "cell_type": "markdown",
   "metadata": {},
   "source": [
    "Read head output from MODFLOW and write the head in the upper-most active cell to a 2D array and GeoTiff."
   ]
  },
  {
   "cell_type": "code",
   "execution_count": null,
   "metadata": {
    "collapsed": false,
    "scrolled": true
   },
   "outputs": [],
   "source": [
    "homes = ['../Models']\n",
    "fig_dir = '../Figures'\n",
    "\n",
    "mfpth = '../executables/MODFLOW-NWT_1.0.9/bin/MODFLOW-NWT_64.exe'\n",
    "mp_exe_name = '../executables/modpath.6_0/bin/mp6.exe' \n",
    "\n",
    "mf_start_date_str = '01/01/1900' \n",
    "mp_release_date_str = '01/01/2020' \n",
    "\n",
    "num_surf_layers = 3\n",
    "num_depth_groups = 5\n",
    "\n",
    "por = 0.20\n",
    "\n",
    "dir_list = []\n",
    "mod_list = []\n",
    "i = 0\n",
    "\n",
    "for home in homes:\n",
    "    if os.path.exists(home):\n",
    "        for dirpath, dirnames, filenames in os.walk(home):\n",
    "            for f in filenames:\n",
    "                if os.path.splitext(f)[-1] == '.nam':\n",
    "                    mod = os.path.splitext(f)[0]\n",
    "                    mod_list.append(mod)\n",
    "                    dir_list.append(dirpath)\n",
    "                    i += 1\n",
    "print('    {} models read'.format(i))"
   ]
  },
  {
   "cell_type": "markdown",
   "metadata": {},
   "source": [
    "Make geotiffs of calibrated heads"
   ]
  },
  {
   "cell_type": "code",
   "execution_count": null,
   "metadata": {
    "collapsed": false,
    "scrolled": true
   },
   "outputs": [],
   "source": [
    "df = pd.DataFrame()\n",
    "for model_ws in dir_list:\n",
    "    model = os.path.normpath(model_ws).split(os.sep)[2]\n",
    "    nam_file = '{}.nam'.format(model)\n",
    "    new_ws = os.path.join(model_ws, 'WEL')\n",
    "    geo_ws = os.path.dirname(model_ws)\n",
    "    \n",
    "    print ('Reading model information')\n",
    "\n",
    "    fpmg = fp.modflow.Modflow.load(nam_file, model_ws=model_ws, exe_name=mfpth, version='mfnwt', \n",
    "                                   load_only=['DIS', 'BAS6', 'UPW', 'OC'], check=False)\n",
    "\n",
    "    dis = fpmg.get_package('DIS')\n",
    "    bas = fpmg.get_package('BAS6')\n",
    "    upw = fpmg.get_package('UPW')\n",
    "    oc = fpmg.get_package('OC')\n",
    "\n",
    "    delr = dis.delr\n",
    "    delc = dis.delc\n",
    "    nlay = dis.nlay\n",
    "    nrow = dis.nrow\n",
    "    ncol = dis.ncol\n",
    "    bot = dis.getbotm()\n",
    "#     top = dis.gettop()\n",
    "\n",
    "    hnoflo = bas.hnoflo\n",
    "    ibound = np.asarray(bas.ibound.get_value())\n",
    "    hdry = upw.hdry\n",
    "\n",
    "    print ('   ... done') \n",
    "\n",
    "    # create a 2D surface of the simulated head in the highest active cell (\"water table\")\n",
    "    src = os.path.join(model_ws, '{}.hds'.format(model))\n",
    "    headobj = fp.utils.HeadFile(src)\n",
    "    heads = headobj.get_data(kstpkper=(0, 0))\n",
    "    heads[heads == hnoflo] = np.nan\n",
    "    heads[heads <= hdry] = np.nan\n",
    "    heads[heads > 1E+29] = np.nan\n",
    "    hin = np.argmax(np.isfinite(heads), axis=0)\n",
    "    row, col = np.indices((hin.shape))\n",
    "    water_table = heads[hin, row, col]\n",
    "\n",
    "    src = os.path.join(geo_ws, 'top.tif')\n",
    "    ph = gdal.Open(src)\n",
    "\n",
    "    band = ph.GetRasterBand(1)\n",
    "    top = band.ReadAsArray()\n",
    "    gt = ph.GetGeoTransform()\n",
    "\n",
    "    ph = None\n",
    "    band = None   \n",
    "        \n",
    "    domain_file = os.path.join(geo_ws, 'domain_outline.shp')\n",
    "    basin = gp.read_file(domain_file)\n",
    "    \n",
    "    # intersect the watershed (domain_diss) and well shapefiles\n",
    "    # and find the rows where the intersection is not null\n",
    "    mp = basin.geometry[0]\n",
    "    in_area_index = ~all_wells['geometry'].intersection(mp).isnull()\n",
    "\n",
    "    # create a geodataframe (sample_gdf) with all the well attributes\n",
    "    wells = all_wells.loc[in_area_index].copy()\n",
    "\n",
    "    if wells.shape[0] != 0:\n",
    "\n",
    "        # Transform GWPs into fractional row, column coordinates for each model\n",
    "\n",
    "        # format the geotransformation list into an affine transformation matrix\n",
    "        forward_transform = np.array(gt).reshape(2, -1)\n",
    "        # add a row to get homogeneous coodinates (offsets are in the first column)\n",
    "        forward_transform = np.vstack((forward_transform, [1, 0, 0]))\n",
    "        # invert the forward transform\n",
    "        reverse_transform = np.linalg.inv(forward_transform)\n",
    "\n",
    "        x = wells.geometry.apply(lambda p: p.x)\n",
    "        y = wells.geometry.apply(lambda p: p.y)\n",
    "        one = np.ones_like(x)\n",
    "\n",
    "        wpts = np.column_stack((x, y, one))\n",
    "\n",
    "        # reverse transform the real-world coordinate to pixel coordinates (row, column)\n",
    "        wpp = reverse_transform.dot(wpts.T)\n",
    "\n",
    "        r, c = np.indices(water_table.shape)\n",
    "\n",
    "        # interpolate water table from model to GWPs\n",
    "        sim_heads = si.griddata((c.ravel(), r.ravel()), water_table.ravel(), wpp.T[:, 1:], method='linear')\n",
    "        sim_top = si.griddata((c.ravel(), r.ravel()), top.ravel(), wpp.T[:, 1:], method='linear')\n",
    "\n",
    "        # convert model values to feet\n",
    "        wells['x'] = x\n",
    "        wells['y'] = y\n",
    "        wells['sim_top'] = sim_top \n",
    "        wells['sim_heads'] = sim_heads   \n",
    "        wells['model'] = model    \n",
    "        wells['WLm'] = wells['WLElevFt'] * 0.3048\n",
    "        wells['DTWm'] = wells['DTWFt'] * 0.3048\n",
    "        wells['LSDm'] = wells['LSElevFt'] * 0.3048\n",
    "        wells['sim_dtw_top'] = wells['sim_top'] - wells['sim_heads']\n",
    "        wells['sim_dtw_lsd'] = wells['LSElevFt'] - wells['sim_heads']\n",
    "        wells['dtw_res_top'] = wells['DTWm'] - wells['sim_dtw_top']\n",
    "        wells['dtw_res_lsd'] = wells['DTWm'] - wells['sim_dtw_lsd']\n",
    "        wells['res_wl_el'] = wells['WLm'] - wells['sim_heads']\n",
    "        wells['res_lsd'] = wells['LSElevFt'] - wells['sim_top']\n",
    "        wells['swgw'] = pd.factorize(wells.SiteType)[0]\n",
    "\n",
    "        # save the data  \n",
    "        df = df.append(wells)"
   ]
  },
  {
   "cell_type": "code",
   "execution_count": null,
   "metadata": {
    "collapsed": false
   },
   "outputs": [],
   "source": [
    "model_data = gp.read_file('../Data/Watersheds/watersheds.shp')"
   ]
  },
  {
   "cell_type": "code",
   "execution_count": null,
   "metadata": {
    "collapsed": false
   },
   "outputs": [],
   "source": [
    "newdf.columns"
   ]
  },
  {
   "cell_type": "code",
   "execution_count": null,
   "metadata": {
    "collapsed": false,
    "scrolled": true
   },
   "outputs": [],
   "source": [
    "newdf = df.merge(model_data, left_on='model', right_on='model_name')\n",
    "newdf.loc[:, 'model_num'] = newdf.model_num.astype(np.int32())\n",
    "newdf = newdf.loc[:, ['OBJECTID', 'SITE_NO', 'DEC_LAT_VA', 'DEC_LONG_V', 'LSElevFt',\n",
    "       'NHDStrmOrd', 'SiteType', 'WLElevFt', 'DTWFt', 'dtwBin', 'location',\n",
    "       'geometry_x', 'x', 'y', 'sim_top', 'sim_heads', 'model', 'WLm', 'DTWm',\n",
    "       'LSDm', 'sim_dtw_top', 'sim_dtw_lsd', 'dtw_res_top', 'dtw_res_lsd',\n",
    "       'res_wl_el', 'res_lsd', 'swgw', 'model_num', 'model_name']]\n",
    "dst = os.path.join(fig_dir, 'head_resid_df.csv')\n",
    "newdf.to_csv(dst)"
   ]
  },
  {
   "cell_type": "code",
   "execution_count": null,
   "metadata": {
    "collapsed": false,
    "scrolled": false
   },
   "outputs": [],
   "source": [
    "font = {'family' : 'sans-serif',\n",
    "        'weight' : 'normal',\n",
    "        'size'   : 8,\n",
    "        'sans-serif' : 'Arial'}\n",
    "\n",
    "plt.rc('font', **font)\n",
    "\n",
    "fig, ax = plt.subplots(1, 1, figsize=(4.6, 4.6))\n",
    "sns.set_style(\"ticks\",  {'axes.facecolor':'white'})\n",
    "ax.grid(False)\n",
    "ax.axhspan(-5, 5, color='red', alpha=0.2)\n",
    "ax.set_yticks(np.arange(-30, 40, 10))\n",
    "ax.set_ylim(-30, 30)\n",
    "ax.tick_params(axis='x', length=0)\n",
    "\n",
    "ax = sns.swarmplot(x=\"model_num\", y=\"res_wl_el\", data=newdf, color='k', \n",
    "                   size=3, alpha=0.40)\n",
    "\n",
    "ax = sns.boxplot(x=\"model_num\", y=\"res_wl_el\", data=newdf, whis=1.5,\n",
    "        showcaps=False, boxprops={'facecolor':'None', 'linewidth':0.5, 'edgecolor':'k', 'alpha':1.0},\n",
    "        showfliers=False, whiskerprops={'linewidth':0, 'color':'k'},\n",
    "                medianprops={'linewidth':0.5})\n",
    "\n",
    "ax.set_xlabel('Model number')\n",
    "ax.set_ylabel('Measured - simulated water-table elevation in meters')\n",
    "fig.set_tight_layout(True)\n",
    "\n",
    "forms = ['png', 'tif', 'pdf']\n",
    "\n",
    "for f in forms:\n",
    "    dst = os.path.join(fig_dir, 'Paper #2017WR021531-f02.{}'.format(f))\n",
    "    plt.savefig(dst, dpi=300)\n"
   ]
  },
  {
   "cell_type": "code",
   "execution_count": null,
   "metadata": {
    "collapsed": true
   },
   "outputs": [],
   "source": []
  }
 ],
 "metadata": {
  "kernelspec": {
   "display_name": "Python 3",
   "language": "python",
   "name": "python3"
  },
  "language_info": {
   "codemirror_mode": {
    "name": "ipython",
    "version": 3
   },
   "file_extension": ".py",
   "mimetype": "text/x-python",
   "name": "python",
   "nbconvert_exporter": "python",
   "pygments_lexer": "ipython3",
   "version": "3.5.3"
  }
 },
 "nbformat": 4,
 "nbformat_minor": 0
}
